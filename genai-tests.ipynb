{
 "cells": [
  {
   "cell_type": "code",
   "execution_count": 1,
   "id": "4ffb04c0-93d6-4a33-8969-a757e83f0985",
   "metadata": {
    "tags": []
   },
   "outputs": [
    {
     "name": "stdout",
     "output_type": "stream",
     "text": [
      "Hello there! How can I assist you today? today?\n",
      "The colors in a rainbow are:\n",
      "\n",
      "* Red\n",
      "* Orange\n",
      "* Yellow\n",
      "* Green\n",
      "* Blue\n",
      "* Indigo\n",
      "* Violet\n",
      "\n",
      "These colors are produced by the refraction and dispersion of light as it passes through raindrops. often remembered using the acronym ROYGBIV.\n",
      "A rainbow appears when sunlight passes through raindrops in the atmosphere. The raindrops act like tiny prisms, bending and separating the different colors of light. The colors of the rainbow are always in the same order, with red on the outside and violet on the inside.\n",
      "\n",
      "For a rainbow to form, the sun must be behind the observer and the rain must be in front. The sun's rays must also be able to reach the raindrops at a specific angle. This is why rainbows are often seen after rainstorms, when the sun is low in the sky.\n",
      "\n",
      "Rainbows can also be seen around waterfalls and other sources of mist or spray.\n",
      "\n",
      "## How rainbows work\n",
      "\n",
      "When sunlight passes through a raindrop, it is refracted, meaning it is bent. The light is also dispersed, meaning the different colors of light are separated. The different colors of light are refracted at different angles, with red light being refracted the least and violet light being refracted the most.\n",
      "\n",
      "This separation of colors is what creates the rainbow. The different colors of light are reflected off the back of the raindrop and then refracted again as they exit the raindrop. This second refraction causes the colors of the rainbow to be arranged in a specific order, with red on the outside and violet on the inside.\n",
      "\n",
      "## Why rainbows are curved\n",
      "\n",
      "Rainbows are curved because the raindrops that create them are spherical. The light that enters a raindrop is refracted and dispersed at different angles, depending on the angle at which it strikes the raindrop. The different colors of light are reflected off the back of the raindrop at different angles, and then refracted again as they exit the raindrop. This second refraction causes the colors of the rainbow to be arranged in a curved arc.\n",
      "\n",
      "## Why rainbows appear in the sky\n",
      "\n",
      "Rainbows appear in the sky because the raindrops that create them are suspended in the air. When the sun is behind the observer and the rain is in front, the sunlight can pass through the raindrops and create a rainbow.\n",
      "\n",
      "## Why rainbows are different sizes\n",
      "\n",
      "Rainbows come in different sizes, depending on the size of the raindrops that create them. Smaller raindrops create smaller rainbows, and larger raindrops create larger rainbows.\n"
     ]
    }
   ],
   "source": [
    "import vertexai\n",
    "from vertexai.generative_models import GenerativeModel, ChatSession\n",
    "\n",
    "project_id = \"andrewcooley-test-project\"\n",
    "location = \"us-central1\"\n",
    "vertexai.init(project=project_id, location=location)\n",
    "model = GenerativeModel(\"gemini-1.0-pro\")\n",
    "chat = model.start_chat()\n",
    "\n",
    "def get_chat_response(chat: ChatSession, prompt: str) -> str:\n",
    "    text_response = []\n",
    "    responses = chat.send_message(prompt, stream=True)\n",
    "    for chunk in responses:\n",
    "        text_response.append(chunk.text)\n",
    "    return \"\".join(text_response)\n",
    "\n",
    "prompt = \"Hello.\"\n",
    "print(get_chat_response(chat, prompt))\n",
    "\n",
    "prompt = \"What are all the colors in a rainbow?\"\n",
    "print(get_chat_response(chat, prompt))\n",
    "\n",
    "prompt = \"Why does it appear when it rains?\"\n",
    "print(get_chat_response(chat, prompt))"
   ]
  }
 ],
 "metadata": {
  "environment": {
   "kernel": "conda-root-py",
   "name": "workbench-notebooks.m119",
   "type": "gcloud",
   "uri": "us-docker.pkg.dev/deeplearning-platform-release/gcr.io/workbench-notebooks:m119"
  },
  "kernelspec": {
   "display_name": "Python 3 (ipykernel)",
   "language": "python",
   "name": "conda-root-py"
  },
  "language_info": {
   "codemirror_mode": {
    "name": "ipython",
    "version": 3
   },
   "file_extension": ".py",
   "mimetype": "text/x-python",
   "name": "python",
   "nbconvert_exporter": "python",
   "pygments_lexer": "ipython3",
   "version": "3.10.14"
  }
 },
 "nbformat": 4,
 "nbformat_minor": 5
}
