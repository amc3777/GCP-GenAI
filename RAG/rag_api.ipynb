{
 "cells": [
  {
   "cell_type": "code",
   "execution_count": 1,
   "metadata": {},
   "outputs": [],
   "source": [
    "import vertexai\n",
    "from vertexai.preview import rag\n",
    "\n",
    "vertexai.init(project=\"andrewcooley-test-project\")\n",
    "\n",
    "rag_corpus = vertexai.preview.rag.create_corpus(\n",
    "        display_name=\"andrewcooley-corpus-1\",)"
   ]
  },
  {
   "cell_type": "code",
   "execution_count": 2,
   "metadata": {},
   "outputs": [],
   "source": [
    "corpus_name = rag_corpus.name"
   ]
  },
  {
   "cell_type": "code",
   "execution_count": null,
   "metadata": {},
   "outputs": [],
   "source": [
    "response = await rag.import_files_async(\n",
    "    corpus_name=corpus_name,\n",
    "    paths=[\"gs://andrewcooley-genai-tests/rag_data\"],\n",
    "    chunk_size=1024,\n",
    "    chunk_overlap=200,\n",
    ")"
   ]
  },
  {
   "cell_type": "code",
   "execution_count": null,
   "metadata": {},
   "outputs": [],
   "source": [
    "response.running"
   ]
  },
  {
   "cell_type": "code",
   "execution_count": null,
   "metadata": {},
   "outputs": [],
   "source": [
    "print(f\"Imported {response.imported_rag_files_count} files.\")"
   ]
  },
  {
   "cell_type": "code",
   "execution_count": 3,
   "metadata": {},
   "outputs": [],
   "source": [
    "result = rag.import_files(\n",
    "    corpus_name=corpus_name,\n",
    "    paths=[\"gs://andrewcooley-genai-tests/rag_data\"]\n",
    ")"
   ]
  },
  {
   "cell_type": "code",
   "execution_count": 4,
   "metadata": {},
   "outputs": [
    {
     "data": {
      "text/plain": [
       "imported_rag_files_count: 176"
      ]
     },
     "execution_count": 4,
     "metadata": {},
     "output_type": "execute_result"
    }
   ],
   "source": [
    "result"
   ]
  },
  {
   "cell_type": "code",
   "execution_count": 5,
   "metadata": {},
   "outputs": [
    {
     "data": {
      "text/plain": [
       "176"
      ]
     },
     "execution_count": 5,
     "metadata": {},
     "output_type": "execute_result"
    }
   ],
   "source": [
    "rag_files = list(rag.list_files(corpus_name=corpus_name))\n",
    "len(rag_files)"
   ]
  },
  {
   "cell_type": "code",
   "execution_count": 6,
   "metadata": {},
   "outputs": [],
   "source": [
    "text = \"2013 earnings\"\n",
    "\n",
    "response = rag.retrieval_query(\n",
    "    rag_corpora=[corpus_name],\n",
    "    text=text,\n",
    "    similarity_top_k=5,\n",
    "  #  vector_distance_threshold=0.5\n",
    "  )"
   ]
  },
  {
   "cell_type": "code",
   "execution_count": 7,
   "metadata": {},
   "outputs": [
    {
     "data": {
      "text/plain": [
       "contexts {\n",
       "  contexts {\n",
       "    source_uri: \"gs://andrewcooley-genai-tests/rag_data/2014Q3_google_earnings_release.pdf\"\n",
       "    text: \"except share amounts \\r\\nwhich are reflected in thousands and per share amounts, unaudited):\\r\\nThree Months Ended September 30, 2013 Three Months Ended September 30, 2014\\r\\nGAAP\\r\\nActual\\r\\nOperating\\r\\nMargin (a) Adjustments\\r\\nNon￾GAAP\\r\\nResults\\r\\nNon￾GAAP\\r\\nOperating\\r\\nMargin (e)\\r\\nGAAP\\r\\nActual\\r\\nOperating\\r\\nMargin (a) Adjustments\\r\\nNon￾GAAP\\r\\nResults\\r\\nNon-GAAP\\r\\nOperating\\r\\nMargin (e)\\r\\n$ 856 (b) $ 1,255 (f)\\r\\n— 378 (g)\\r\\nIncome from\\r\\noperations $ 3,761 27.3% $ 856 $ 4,617 33.6% $ 3,724 22.5% $ 1,633 $ 5,357 32.4%\\r\\n$ 856 (b) $ 1,255 (f)\\r\\n(200) (c) (258) (c)\\r\\n193 (d) 185 (d)\\r\\n— 378 (g)\\r\\nNet income $ 2,970 $ 849 $ 3,819 $ 2,813 $ 1,560 $ 4,373\\r\\nNet income per\\r\\nshare - diluted $ 4.38 $ 5.63 $ 4.09 $ 6.35\\r\\nShares used in per\\r\\nshare calculation -\\r\\ndiluted 678,470 678,470 688,215 688,215\\r\\n(a) Operating margin is defined as income from operations divided by revenues.\\r\\n(b) To eliminate $856 million of stock-based compensation expense recorded in the third quarter of 2013.\\r\\n(c) To eliminate income tax effects related to expenses noted in (b) and (f).\\r\\n(d) To eliminate net loss from discontinued operations.\\r\\n(e) Non-GAAP operating margin is defined as non-GAAP income from operations divided by revenues.\\r\\n(f) To eliminate $1,255 million of stock-based compensation expense recorded in the third quarter of 2014.\"\n",
       "    distance: 0.27955864635666539\n",
       "  }\n",
       "  contexts {\n",
       "    source_uri: \"gs://andrewcooley-genai-tests/rag_data/2014Q1_google_earnings_release.pdf\"\n",
       "    text: \"012\\r\\nNet income from continuing operations 3,528 514 4,042 3,650 649 4,299\\r\\nNet loss from discontinued operations (182) 182 (d) 0 (198) 198 (d) 0\\r\\nNet income $3,346 $696 $4,042 $3,452 $847 $4,299\\r\\nNet income per share - diluted $4.97 $6.00 5.04 6.27\\r\\nShares used in per share calculation - diluted 673,326 673,326 685,212 685,212\\r\\n(a)\\r\\nOperating margin is defined as consolidated income from operations divided by revenues.\\r\\nNon-GAAP operating margin is defined as non-GAAP consolidated income from operations divided by revenues.\\r\\n(b) To eliminate stock-based compensation expense.\\r\\n(c) To eliminate income tax effects related to stock-based compensation expense.\\r\\n(d) To eliminate net loss from discontinued operations.Reconciliation from net cash provided by operating activities to free\\r\\ncash flow (in millions, unaudited):\\r\\nThree Months Ended\\r\\nMarch 31, 2014\\r\\nNet cash provided by operating activities $4,391\\r\\nLess purchases of property and equipment (2,345)\\r\\nFree cash flow $2,046\\r\\nNet cash used in investing activities* ($7,307)\\r\\nNet cash provided by financing activities $822\\r\\n*Includes purchases of property and equipment.Reconciliation from GAAP international revenues to non-GAAP international revenues (in millions, unaudited):\\r\\nThree Months Ended\\r\\nMarch 31, 2014\\r\\nThree Months Ended\\r\\nMarch 31, 2014\\r\\n(using Q1\\'13\\'s FX\\r\\nrates)\\r\\n(using Q4\\'13\\'s FX\\r\\nrates)\\r\\nUnited Kingdom revenues (GAAP) $1,583 $1,583\\r\\nExclude foreign exchange impact on Q1\\'14 revenues using Q1\\'13 rates (71) NA\\r\\nExclude foreign exchange impact on Q1\\'14 revenues using Q4\\'13 rates NA (36)\\r\\nExclude hedging gains recognized in Q1\\'14 0 0\\r\\nUnited Kingdom revenues excluding foreign exchange and hedging impact (Non￾GAAP) $1,512 $1,547\\r\\nRest of the world revenues (GAAP) $7,181 $7,181\\r\\nExclude foreign exchange impact on Q1\\'14 revenues using Q1\\'13 rates 234 NA\\r\\nExclude foreign exchange impact on Q1\\'14 revenues using Q4\\'13 rates NA 86\\r\\nExclude hedging gains recognized in Q1\\'14 (8) (8)\\r\\nRest of the world revenues excluding foreign exchange and hedging impact\\r\\n(Non-GAAP) $7,407 $7,259The following table presents our revenues by revenue source (in millions):\\r\\nThree Months Ended\\r\\nMarch 31,\\r\\n2013 2014\\r\\n(unaudited)\\r\\nAdvertising revenues:\\r\\nWebsites $8,640 $10,469\\r\\nNetwork Members\\' websites 3,262 3,397\\r\\nTotal advertising revenues 11,902 13,866\\r\\nOther revenues 1,049 1,554\\r\\nTotal revenues $12,951 $15,420\\r\\nThe following table presents our revenues, by revenue source, as a percentage of\\r\\ntotal revenues:\\r\\nThree Months Ended\\r\\nMarch 31,\\r\\n2013 2014\\r\\n(unaudited)\\r\\nAdvertising revenues:\\r\\nWebsites 67% 68%\\r\\nNetwork Members\\' websites 25% 22%\\r\\nTotal advertising revenues 92% 90%\\r\\nOther revenues 8% 10%\\r\\nTotal revenues 100% 100%\"\n",
       "    distance: 0.28016935951005906\n",
       "  }\n",
       "  contexts {\n",
       "    source_uri: \"gs://andrewcooley-genai-tests/rag_data/20141231_google_10K.pdf\"\n",
       "    text: \"We have \\r\\nprepared the unaudited information on the same basis as our audited consolidated financial statements. Our operating \\r\\nresults for any quarter are not necessarily indicative of results for any future quarters or for a full year. Please note \\r\\nthat previously reported quarters have been adjusted to show discontinued operations for the sale of the Motorola \\r\\nMobile and Motorola Home businesses. In addition, per share amounts for the previously reported quarters below \\r\\nhave been retroactively adjusted to reflect the Stock Split. Please see Note 1 and Note 12 of Part II, Item 8 of this \\r\\nAnnual Report on Form 10-K for additional information on the Stock Split.\\r\\nThe following table presents our unaudited quarterly results of operations for the eight quarters ended December \\r\\n31, 2014. This table includes all adjustments, consisting only of normal recurring adjustments, that we consider \\r\\nnecessary for fair presentation of our consolidated financial position and operating results for the quarters presented. \\r\\nBoth seasonal fluctuations in internet usage and traditional retail seasonality have affected, and are likely to continue \\r\\nto affect, our business. Internet usage generally slows during the summer months, and commercial queries typically \\r\\nincrease significantly in the fourth quarter of each year. These seasonal trends have caused and will likely continue \\r\\nto cause, fluctuations in our quarterly results, including fluctuations in sequential revenue growth rates.\\r\\nTable of Contents33\\r\\nQuarter Ended\\r\\nMar 31,\\r\\n2013\\r\\nJun 30,\\r\\n2013\\r\\nSep 30,\\r\\n2013\\r\\nDec 31,\\r\\n2013\\r\\nMar 31,\\r\\n2014\\r\\nJun 30,\\r\\n2014\\r\\nSep 30,\\r\\n2014\\r\\nDec 31,\\r\\n2014\\r\\n(In millions, except per share amounts)\\r\\n(unaudited)\\r\\nConsolidated Statements of\\r\\nIncome Data:\\r\\nRevenues $12,951 $13,107 $13,754 $15,707 $15,420 $15,955 $16,523 $18,103\\r\\nCosts and expenses:\\r\\nCost of revenues 5,136 5,195 5,409 6,253 5,961 6,114 6,695 6,921\\r\\nResearch and development 1,617 1,766 1,821 1,933 2,126 2,238 2,655 2,813\\r\\nSales and marketing 1,435 1,583 1,628 1,908 1,729 1,941 2,084 2,377\\r\\nGeneral and administrative 1,015 1,098 1,135 1,184 1,489 1,404 1,365 1,593\\r\\nTotal costs and expenses 9,203 9,642 9,993 11,278 11,305 11,697 12,799 13,704\\r\\nIncome from operations 3,748 3,465 3,761 4,429 4,115 4,258 3,724 4,399\\r\\nInterest and other income, net 134 236 14 112 357 145 133 128\\r\\nIncome from continuing\\r\\noperations before income taxes 3,882 3,701 3,775 4,541 4,472 4,403 3,857 4,527\\r\\nProvision for income taxes 354 927 612 659 822 913 859 737\\r\\nNet income from continuing\\r\\noperations $ 3,528 $ 2,774 $ 3,163 $ 3,882 $ 3,650 $ 3,490 $ 2,998 $ 3,790\\r\\nNet income (loss) from\\r\\ndiscontinued operations (182) 454 (193) (506) (198) (68) (185) 967\\r\\nNet income $ 3,346 $ 3,228 $ 2,970 $ 3,376 $ 3,452 $ 3,422 $ 2,813 $ 4,757\\r\\nNet income (loss) per share -\\r\\nbasic:\\r\\nContinuing operations $ 5.34 $ 4.17 $ 4.74 $ 5.80 $ 5.42 $ 5.17 $ 4.42 $ 5.58\\r\\nDiscontinued operations (0.28) 0.68 (0.29) (0.76) (0.29) (0.10) (0.27) 1.43\\r\\nNet income per share - basic $ 5.06 $ 4.85 $ 4.45 $ 5.04 $ 5.13 $ 5.07 $ 4.15 $ 7.01\\r\\nNet income (loss) per share -\\r\\ndiluted:\\r\\nContinuing operations $ 5.24 $ 4.\"\n",
       "    distance: 0.280889827803815\n",
       "  }\n",
       "  contexts {\n",
       "    source_uri: \"gs://andrewcooley-genai-tests/rag_data/2014Q4_google_earnings_release.pdf\"\n",
       "    text: \"unaudited):\\r\\nThree Months Ended December 31, 2013 Three Months Ended December 31, 2014\\r\\nGAAP\\r\\nActual\\r\\nOperating\\r\\nMargin\\r\\n(a) Adjustments\\r\\nNon￾GAAP\\r\\nResults\\r\\nNon￾GAAP\\r\\nOperating\\r\\nMargin\\r\\n(e)\\r\\nGAAP\\r\\nActual\\r\\nOperating\\r\\nMargin\\r\\n(a) Adjustments\\r\\nNon￾GAAP\\r\\nResults\\r\\nNon￾GAAP\\r\\nOperating\\r\\nMargin\\r\\n(e)\\r\\n$ 873 (b) $ 1,201 (b)\\r\\nIncome from\\r\\noperations $ 4,429 28.2% $ 873 $ 5,302 33.8% $ 4,399 24.3% $ 1,201 $ 5,600 30.9%\\r\\n$ 873 (b) $ 1,201 (b)\\r\\n(184)\\r\\n(c) (255)\\r\\n(c)\\r\\n506 (d) (967)\\r\\n(d)\\r\\nNet income $ 3,376 $ 1,195 $ 4,571 $ 4,757 $ (21) $ 4,736\\r\\nNet income per\\r\\nshare - diluted $ 4.95 $ 6.70 $ 6.91 $ 6.88\\r\\nShares used in per\\r\\nshare calculation -\\r\\ndiluted 682,006 682,006 688,491 688,491\\r\\n(a) Operating margin is defined as income from operations divided by revenues.\\r\\n(b) To eliminate stock-based compensation expense from continuing operations.\\r\\n(c) To eliminate income tax effects related to expense noted in (b).\\r\\n(d) To eliminate net loss (income) from discontinued operations.\"\n",
       "    distance: 0.2823566085325645\n",
       "  }\n",
       "  contexts {\n",
       "    source_uri: \"gs://andrewcooley-genai-tests/rag_data/20131231_google_10K.pdf\"\n",
       "    text: \"88 $ 8.68 $ 6.59 $ 8.83 $ 10.06 $ 7.68 $ 8.86 $ 10.10\\r\\nDiscontinued operations 0 (0.14) 0.05 $ (0.06) $ 0.07 $ 2.03 $ 0.04 $ (0.02)\\r\\nNet income per share - basic $ 8.88 $ 8.54 $ 6.64 $ 8.77 $ 10.13 $ 9.71 $ 8.90 $ 10.08\\r\\nNet income (loss) per share -\\r\\ndiluted:\\r\\nContinuing operations $ 8.75 $ 8.56 $ 6.48 $ 8.68 $ 9.87 $ 7.55 $ 8.71 $ 9.91\\r\\nDiscontinued operations 0 (0.14) 0.05 (0.06) 0.07 1.99 0.04 (0.01)\\r\\nNet income per share - diluted $ 8.75 $ 8.42 $ 6.53 $ 8.62 $ 9.94 $ 9.54 $ 8.75 $ 9.90\\r\\nThe following table presents our unaudited quarterly results of operations as a percentage of revenues for the \\r\\neight quarters ended December 31, 2013:\\r\\nTable of Contents38\\r\\nQuarter Ended\\r\\nMar 31,\\r\\n2012\\r\\nJun 30,\\r\\n2012\\r\\nSep 30,\\r\\n2012\\r\\nDec 31,\\r\\n2012\\r\\nMar 31,\\r\\n2013\\r\\nJun 30,\\r\\n2013\\r\\nSep 30,\\r\\n2013\\r\\nDec 31,\\r\\n2013\\r\\nRevenues:\\r\\nGoogle (advertising and\\r\\nother) 100.0% 92.9 % 86.6% 89.5 % 92.7% 92.9% 92.4% 93.2 %\\r\\nMotorola Mobile\\r\\n(hardware and other) 0 7.1 13.4 10.5 7.3 7.1 7.6 6.8\\r\\nTotal revenues 100.0% 100.0 % 100.0% 100.0 % 100.0% 100.0% 100.0% 100.0 %\\r\\nCosts and expenses:\\r\\nCost of revenues - Google\\r\\n(advertising and other)\\r\\n35.6 33.7 33.4 34.4 36.8 36.8 36.3 37.1\\r\\nCost of revenues -\\r\\nMotorola Mobile\\r\\n(hardware and other) 0 5.9 11.3 8.7 5.7 6.2 6.7 7.0\\r\\nResearch and\\r\\ndevelopment 13.5 13.0 14.1 13.4 13.2 14.1 13.5 12.5\\r\\nSales and marketing 11.9 12.0 12.9 12.2 11.4 12.3 12.1 12.6\\r\\nGeneral and\\r\\nadministrative 7.2 8.0 7.7 7.8 8.0 8.5 8.3 7.5\\r\\nTotal costs and expenses 68.2 72.6 79.4 76.5 75.1 77.9 76.9 76.7\\r\\nIncome from operations 31.8 27.4 20.6 23.5 24.9 22.1 23.1 23.3\\r\\nInterest and other income, net 1.5 2.1 0.5 1.1 1.0 1.8 0.2 0.7\\r\\nIncome from continuing\\r\\noperations before income\\r\\ntaxes 33.3 29.5 21.1 24.6 25.9 23.9 23.3 24.0\\r\\nProvision for income taxes 6.2 5.5 4.9 4.4 2.1 5.8 3.4 4.0\\r\\nNet income from continuing\\r\\noperations 27.1% 24.0 % 16.2% 20.2 % 23.8% 18.1% 19.9% 20.0 %\\r\\nNet income (loss) from\\r\\ndiscontinued operations 0% (0.4)% 0.1% (0.2)% 0.2% 4.8% 0.1% 0 %\\r\\nNet income\\r\\n27.\"\n",
       "    distance: 0.28367914618705958\n",
       "  }\n",
       "}"
      ]
     },
     "execution_count": 7,
     "metadata": {},
     "output_type": "execute_result"
    }
   ],
   "source": [
    "response"
   ]
  },
  {
   "cell_type": "code",
   "execution_count": 8,
   "metadata": {},
   "outputs": [],
   "source": [
    "import vertexai\n",
    "from vertexai.preview.generative_models import Tool, Part, FinishReason, GenerativeModel\n",
    "import vertexai.preview.generative_models as generative_models\n"
   ]
  },
  {
   "cell_type": "code",
   "execution_count": 9,
   "metadata": {},
   "outputs": [],
   "source": [
    "tools = [Tool.from_retrieval(retrieval=rag.Retrieval(source=rag.VertexRagStore(rag_corpora=[corpus_name], similarity_top_k=3))),\n",
    "         # Tool.from_google_search_retrieval(google_search_retrieval=generative_models.grounding.GoogleSearchRetrieval(disable_attribution=False))\n",
    "        ]"
   ]
  },
  {
   "cell_type": "code",
   "execution_count": 21,
   "metadata": {},
   "outputs": [
    {
     "data": {
      "text/plain": [
       "\"In 2015, Alphabet, Google's parent company, reported net income of 21.8%. In 2017, Alphabet reported net income of $12.7 billion, with diluted net income per share of $18.00.  \\n\""
      ]
     },
     "execution_count": 21,
     "metadata": {},
     "output_type": "execute_result"
    }
   ],
   "source": [
    "model = GenerativeModel(\n",
    "    \"gemini-1.5-flash-preview-0514\",\n",
    "    system_instruction=\"If retrieved content does NOT contain relevant information, use your own knowledge to answer question.\",\n",
    "    tools=tools,\n",
    "  )\n",
    "\n",
    "responses = model.generate_content(\"\"\"Has Alphabet been profitable recently?\"\"\").text\n",
    "\n",
    "responses\n"
   ]
  },
  {
   "cell_type": "code",
   "execution_count": null,
   "metadata": {},
   "outputs": [],
   "source": [
    "generation_config = {\n",
    "  \"temperature\": 0.2,\n",
    "  \"max_output_tokens\": 2048,\n",
    "  \"candidate_count\": 1,\n",
    "  \"top_p\": 0.1\n",
    "}\n",
    "\n",
    "rag_model = GenerativeModel(\n",
    "    model_name=\"gemini-1.5-flash-preview-0514\",\n",
    "    tools=tools\n",
    ")"
   ]
  },
  {
   "cell_type": "code",
   "execution_count": null,
   "metadata": {},
   "outputs": [],
   "source": [
    "rag_response = rag_model.generate_content(\"Any good pizza recommendations for Dallas, TX?\").text"
   ]
  },
  {
   "cell_type": "code",
   "execution_count": null,
   "metadata": {},
   "outputs": [],
   "source": [
    "rag_response"
   ]
  },
  {
   "cell_type": "code",
   "execution_count": null,
   "metadata": {},
   "outputs": [],
   "source": [
    "generation_config = {\n",
    "  \"temperature\": 0.2,\n",
    "  \"max_output_tokens\": 2048,\n",
    "  \"candidate_count\": 1,\n",
    "  \"top_p\": 0.1\n",
    "}\n",
    "\n",
    "summary_model = GenerativeModel(\n",
    "    generation_config=generation_config,\n",
    "    model_name=\"gemini-1.5-flash-preview-0514\"\n",
    ")\n",
    "\n",
    "print(summary_model.generate_content(f\"Use the table below to answer this question: was Google Cloud profitable in Q3 2023?\\n\\n{rag_response}\").text)"
   ]
  },
  {
   "cell_type": "code",
   "execution_count": null,
   "metadata": {},
   "outputs": [],
   "source": [
    "text = \"When did Google acquire FitBit?\"\n",
    "\n",
    "\n",
    "response = rag.retrieval_query(\n",
    "    rag_corpora=[corpus_name],\n",
    "    text=text,\n",
    "    similarity_top_k=2,\n",
    "  )"
   ]
  },
  {
   "cell_type": "code",
   "execution_count": null,
   "metadata": {},
   "outputs": [],
   "source": [
    "response"
   ]
  },
  {
   "cell_type": "code",
   "execution_count": null,
   "metadata": {},
   "outputs": [],
   "source": [
    "text = \"When did Google acquire FitBit?\"\n",
    "\n",
    "response = rag_model.generate_content(\n",
    "    text)\n",
    "\n",
    "print(response.text)"
   ]
  },
  {
   "cell_type": "code",
   "execution_count": null,
   "metadata": {},
   "outputs": [],
   "source": [
    "files = rag.list_files(corpus_name=corpus_name)\n",
    "for file in files:\n",
    "    print(file)"
   ]
  },
  {
   "cell_type": "code",
   "execution_count": null,
   "metadata": {},
   "outputs": [],
   "source": [
    "rag.delete_corpus(corpus_name)"
   ]
  }
 ],
 "metadata": {
  "kernelspec": {
   "display_name": ".venv",
   "language": "python",
   "name": "python3"
  },
  "language_info": {
   "codemirror_mode": {
    "name": "ipython",
    "version": 3
   },
   "file_extension": ".py",
   "mimetype": "text/x-python",
   "name": "python",
   "nbconvert_exporter": "python",
   "pygments_lexer": "ipython3",
   "version": "3.11.6"
  }
 },
 "nbformat": 4,
 "nbformat_minor": 2
}
