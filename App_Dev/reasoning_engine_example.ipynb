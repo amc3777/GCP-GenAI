{
 "cells": [
  {
   "cell_type": "code",
   "execution_count": null,
   "metadata": {},
   "outputs": [],
   "source": [
    "class FooBar:\n",
    "    def __init__(self):\n",
    "        return\n",
    "\n",
    "    def set_up(self):\n",
    "        return\n",
    "\n",
    "    def run(self, query: str):\n",
    "        return \"My query is \" + query\n",
    "\n",
    "app = FooBar()\n",
    "app.run(query=\"hello\")"
   ]
  },
  {
   "cell_type": "code",
   "execution_count": null,
   "metadata": {},
   "outputs": [],
   "source": [
    "!pip install --upgrade google-cloud-aiplatform==1.49.0 langchain==0.1.16 langchain-google-vertexai==1.0.2 pydantic"
   ]
  },
  {
   "cell_type": "code",
   "execution_count": 10,
   "metadata": {},
   "outputs": [],
   "source": [
    "PROJECT_ID = \"andrewcooley-test-project\"\n",
    "LOCATION = \"us-central1\"\n",
    "STAGING_BUCKET = \"gs://andrewcooley-reasoning-engine\"\n",
    "\n",
    "import vertexai\n",
    "\n",
    "vertexai.init(project=PROJECT_ID, location=LOCATION, staging_bucket=STAGING_BUCKET)"
   ]
  },
  {
   "cell_type": "code",
   "execution_count": 2,
   "metadata": {},
   "outputs": [],
   "source": [
    "import requests\n",
    "from vertexai.preview import reasoning_engines"
   ]
  },
  {
   "cell_type": "code",
   "execution_count": 3,
   "metadata": {},
   "outputs": [],
   "source": [
    "model = \"gemini-1.5-pro-preview-0409\""
   ]
  },
  {
   "cell_type": "code",
   "execution_count": 4,
   "metadata": {},
   "outputs": [],
   "source": [
    "def get_exchange_rate(\n",
    "    currency_from: str = \"USD\",\n",
    "    currency_to: str = \"EUR\",\n",
    "    currency_date: str = \"latest\",\n",
    "):\n",
    "    \"\"\"Retrieves the exchange rate between two currencies on a specified date.\"\"\"\n",
    "    import requests\n",
    "\n",
    "    response = requests.get(\n",
    "        f\"https://api.frankfurter.app/{currency_date}\",\n",
    "        params={\"from\": currency_from, \"to\": currency_to},\n",
    "    )\n",
    "    return response.json()"
   ]
  },
  {
   "cell_type": "code",
   "execution_count": 5,
   "metadata": {},
   "outputs": [
    {
     "data": {
      "text/plain": [
       "{'amount': 1.0, 'base': 'USD', 'date': '2024-04-22', 'rates': {'SEK': 10.9119}}"
      ]
     },
     "execution_count": 5,
     "metadata": {},
     "output_type": "execute_result"
    }
   ],
   "source": [
    "get_exchange_rate(currency_from=\"USD\", currency_to=\"SEK\")"
   ]
  },
  {
   "cell_type": "code",
   "execution_count": 6,
   "metadata": {},
   "outputs": [],
   "source": [
    "agent = reasoning_engines.LangchainAgent(\n",
    "    model=model,\n",
    "    tools=[get_exchange_rate],\n",
    "    agent_executor_kwargs={\"return_intermediate_steps\": True},\n",
    ")"
   ]
  },
  {
   "cell_type": "code",
   "execution_count": 7,
   "metadata": {},
   "outputs": [
    {
     "data": {
      "text/plain": [
       "{'input': \"What's the exchange rate from US dollars to Swedish currency today?\",\n",
       " 'output': 'Today, 1 US dollar is equal to 10.9119 Swedish krona. \\n',\n",
       " 'intermediate_steps': [(AgentActionMessageLog(tool='get_exchange_rate', tool_input={'currency_from': 'USD', 'currency_to': 'SEK'}, log=\"\\nInvoking: `get_exchange_rate` with `{'currency_from': 'USD', 'currency_to': 'SEK'}`\\n\\n\\n\", message_log=[AIMessageChunk(content='', additional_kwargs={'function_call': {'name': 'get_exchange_rate', 'arguments': '{\"currency_from\": \"USD\", \"currency_to\": \"SEK\"}'}}, response_metadata={'is_blocked': False, 'safety_ratings': [{'category': 'HARM_CATEGORY_HATE_SPEECH', 'probability_label': 'NEGLIGIBLE', 'blocked': False}, {'category': 'HARM_CATEGORY_DANGEROUS_CONTENT', 'probability_label': 'NEGLIGIBLE', 'blocked': False}, {'category': 'HARM_CATEGORY_HARASSMENT', 'probability_label': 'NEGLIGIBLE', 'blocked': False}, {'category': 'HARM_CATEGORY_SEXUALLY_EXPLICIT', 'probability_label': 'NEGLIGIBLE', 'blocked': False}], 'citation_metadata': None, 'usage_metadata': {'prompt_token_count': 74, 'candidates_token_count': 13, 'total_token_count': 87}}, id='run-6ab59c0c-ec98-4c80-af08-6d0264024330', tool_calls=[{'name': 'get_exchange_rate', 'args': {'currency_from': 'USD', 'currency_to': 'SEK'}, 'id': 'd72b1e05-7ca9-460e-b265-7455719ac8be'}], tool_call_chunks=[{'name': 'get_exchange_rate', 'args': '{\"currency_from\": \"USD\", \"currency_to\": \"SEK\"}', 'id': 'd72b1e05-7ca9-460e-b265-7455719ac8be', 'index': None}])]),\n",
       "   {'amount': 1.0,\n",
       "    'base': 'USD',\n",
       "    'date': '2024-04-22',\n",
       "    'rates': {'SEK': 10.9119}})]}"
      ]
     },
     "execution_count": 7,
     "metadata": {},
     "output_type": "execute_result"
    }
   ],
   "source": [
    "agent.query(input=\"What's the exchange rate from US dollars to Swedish currency today?\")"
   ]
  },
  {
   "cell_type": "code",
   "execution_count": 8,
   "metadata": {},
   "outputs": [],
   "source": [
    "agent = reasoning_engines.LangchainAgent(\n",
    "    model=model,\n",
    "    tools=[get_exchange_rate],\n",
    ")"
   ]
  },
  {
   "cell_type": "code",
   "execution_count": 11,
   "metadata": {},
   "outputs": [
    {
     "name": "stdout",
     "output_type": "stream",
     "text": [
      "Creating bucket andrewcooley-reasoning-engine in location='us-central1'\n",
      "Writing to gs://andrewcooley-reasoning-engine/reasoning_engine/reasoning_engine.pkl\n",
      "Writing to gs://andrewcooley-reasoning-engine/reasoning_engine/requirements.txt\n",
      "Creating in-memory tarfile of extra_packages\n",
      "Writing to gs://andrewcooley-reasoning-engine/reasoning_engine/dependencies.tar.gz\n",
      "failed to generate schema: issubclass() arg 1 must be a class\n",
      "Creating ReasoningEngine\n",
      "Create ReasoningEngine backing LRO: projects/619758184732/locations/us-central1/reasoningEngines/8102890523313831936/operations/3136289332625670144\n",
      "ReasoningEngine created. Resource name: projects/619758184732/locations/us-central1/reasoningEngines/8102890523313831936\n",
      "To use this ReasoningEngine in another session:\n",
      "reasoning_engine = vertexai.preview.reasoning_engines.ReasoningEngine('projects/619758184732/locations/us-central1/reasoningEngines/8102890523313831936')\n"
     ]
    }
   ],
   "source": [
    "remote_agent = reasoning_engines.ReasoningEngine.create(\n",
    "    agent,\n",
    "    requirements=[\n",
    "        \"google-cloud-aiplatform[reasoningengine,langchain]\",\n",
    "        \"requests\",\n",
    "    ],\n",
    ")"
   ]
  },
  {
   "cell_type": "code",
   "execution_count": 12,
   "metadata": {},
   "outputs": [
    {
     "data": {
      "text/plain": [
       "{'input': \"What's the exchange rate from US dollars to Swedish currency today?\",\n",
       " 'output': 'Today, April 22, 2024, 1 US dollar is equal to 10.9119 Swedish kronor. \\n'}"
      ]
     },
     "execution_count": 12,
     "metadata": {},
     "output_type": "execute_result"
    }
   ],
   "source": [
    "remote_agent.query(\n",
    "    input=\"What's the exchange rate from US dollars to Swedish currency today?\"\n",
    ")"
   ]
  },
  {
   "cell_type": "code",
   "execution_count": 13,
   "metadata": {},
   "outputs": [
    {
     "data": {
      "text/plain": [
       "[<vertexai.reasoning_engines._reasoning_engines.ReasoningEngine object at 0x168edd350> \n",
       " resource name: projects/619758184732/locations/us-central1/reasoningEngines/8102890523313831936]"
      ]
     },
     "execution_count": 13,
     "metadata": {},
     "output_type": "execute_result"
    }
   ],
   "source": [
    "reasoning_engines.ReasoningEngine.list()"
   ]
  }
 ],
 "metadata": {
  "kernelspec": {
   "display_name": ".venv",
   "language": "python",
   "name": "python3"
  },
  "language_info": {
   "codemirror_mode": {
    "name": "ipython",
    "version": 3
   },
   "file_extension": ".py",
   "mimetype": "text/x-python",
   "name": "python",
   "nbconvert_exporter": "python",
   "pygments_lexer": "ipython3",
   "version": "3.11.6"
  }
 },
 "nbformat": 4,
 "nbformat_minor": 2
}
