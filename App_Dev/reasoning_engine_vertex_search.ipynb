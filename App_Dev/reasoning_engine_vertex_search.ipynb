{
 "cells": [
  {
   "cell_type": "code",
   "execution_count": 1,
   "metadata": {},
   "outputs": [],
   "source": [
    "PROJECT_ID = \"andrewcooley-test-project\"\n",
    "LOCATION = \"us-central1\"\n",
    "STAGING_BUCKET = \"gs://andrewcooley-reasoning-engine\"\n",
    "\n",
    "import vertexai\n",
    "\n",
    "vertexai.init(project=PROJECT_ID, location=LOCATION, staging_bucket=STAGING_BUCKET)"
   ]
  },
  {
   "cell_type": "code",
   "execution_count": 2,
   "metadata": {},
   "outputs": [],
   "source": [
    "from googleapiclient import discovery\n",
    "from IPython.display import display, Markdown\n",
    "from langchain.agents.format_scratchpad import format_to_openai_function_messages\n",
    "from langchain_core import prompts\n",
    "from langchain.memory import ChatMessageHistory\n",
    "from vertexai.preview import reasoning_engines"
   ]
  },
  {
   "cell_type": "code",
   "execution_count": 3,
   "metadata": {},
   "outputs": [],
   "source": [
    "model = \"gemini-1.5-flash-001\""
   ]
  },
  {
   "cell_type": "code",
   "execution_count": 4,
   "metadata": {},
   "outputs": [],
   "source": [
    "DATA_STORE_ID = \"kaggle-movies_1717439038857\"\n",
    "LOCATION_ID = \"global\" "
   ]
  },
  {
   "cell_type": "code",
   "execution_count": 13,
   "metadata": {},
   "outputs": [],
   "source": [
    "def search_kaggle_movies(query: str) -> str:\n",
    "    \"\"\"\n",
    "    Search across a movie database given a natural language text query. The query can search for many different attributes about a movie.\n",
    "\n",
    "    Args:\n",
    "        query (str): the user's query text to find results in the movie database.\n",
    "\n",
    "    Returns:\n",
    "        str: the search results for the user's query.\n",
    "    \"\"\"\n",
    "    from langchain_google_community import VertexAISearchRetriever\n",
    "\n",
    "    retriever = VertexAISearchRetriever(\n",
    "        project_id=PROJECT_ID,\n",
    "        data_store_id=DATA_STORE_ID,\n",
    "        location_id=LOCATION_ID,\n",
    "        engine_data_type=1,\n",
    "        max_documents=10,\n",
    "    )\n",
    "\n",
    "    result = str(retriever.invoke(query))\n",
    "    return result"
   ]
  },
  {
   "cell_type": "code",
   "execution_count": 14,
   "metadata": {},
   "outputs": [
    {
     "data": {
      "text/plain": [
       "'[Document(page_content=\\'{\"id\": \"14736\", \"poster_path\": \"https://image.tmdb.org/t/p/original/zNZWNX19FZ5QyedprVM0ldsXFiP.jpg\", \"runtime\": \"124\", \"tagline\": \"All\\\\\\'s fair in love and basketball.\", \"budget\": \"20000000\", \"original_language\": \"en\", \"status\": \"Released\", \"popularity\": 5.733227, \"original_title\": \"Love & Basketball\", \"vote_count\": \"93\", \"spoken_languages\": \"[{\\\\\\'iso_639_1\\\\\\': \\\\\\'en\\\\\\', \\\\\\'name\\\\\\': \\\\\\'English\\\\\\'}, {\\\\\\'iso_639_1\\\\\\': \\\\\\'es\\\\\\', \\\\\\'name\\\\\\': \\\\\\'Espa\\\\\\\\u00f1ol\\\\\\'}]\", \"imdb_id\": \"tt0199725\", \"release_date\": \"2000-04-21\", \"production_countries\": \"[{\\\\\\'iso_3166_1\\\\\\': \\\\\\'US\\\\\\', \\\\\\'name\\\\\\': \\\\\\'United States of America\\\\\\'}]\", \"title\": \"Love & Basketball\", \"revenue\": \"27728118\", \"overview\": \"A young African-American couple navigates the tricky paths of romance and athletics in this drama. Quincy McCall (Omar Epps) and Monica Wright (Sanaa Lathan) grew up in the same neighborhood and have known each other since childhood. As they grow into adulthood, they fall in love, but they also share another all-consuming passion: basketball. They\\\\\\'ve followed the game all their lives and have no small amount of talent on the court. As Quincy and Monica struggle to make their relationship work, they follow separate career paths though high school and college basketball and, they hope, into stardom in big-league professional ball.\", \"production_companies\": \"[{\\\\\\'name\\\\\\': \\\\\\'40 Acres & A Mule Filmworks\\\\\\', \\\\\\'id\\\\\\': 4319}]\", \"genres\": \"[{\\\\\\'id\\\\\\': 28, \\\\\\'name\\\\\\': \\\\\\'Action\\\\\\'}, {\\\\\\'id\\\\\\': 35, \\\\\\'name\\\\\\': \\\\\\'Comedy\\\\\\'}, {\\\\\\'id\\\\\\': 18, \\\\\\'name\\\\\\': \\\\\\'Drama\\\\\\'}, {\\\\\\'id\\\\\\': 10749, \\\\\\'name\\\\\\': \\\\\\'Romance\\\\\\'}]\", \"vote_average\": 7.5}\\', metadata={\\'id\\': \\'ad6f07c5e11faea4f4e2758205855466\\', \\'name\\': \\'projects/619758184732/locations/global/collections/default_collection/dataStores/kaggle-movies_1717439038857/branches/0/documents/ad6f07c5e11faea4f4e2758205855466\\'}), Document(page_content=\\'{\"id\": \"184080\", \"poster_path\": \"https://image.tmdb.org/t/p/original/cNrgYmhHZ1UGdQVS2L2h2ZPepDW.jpg\", \"tagline\": \"A triumph capturing a culture of champions without medallions\", \"runtime\": \"90\", \"budget\": \"0\", \"original_language\": \"en\", \"status\": \"Released\", \"homepage\": \"http://buy.doinitinthepark.com/\", \"popularity\": 0.325506, \"original_title\": \"Doin\\\\\\' It in the Park: Pick-Up Basketball, NYC\", \"vote_count\": \"6\", \"imdb_id\": \"tt2281201\", \"spoken_languages\": \"[{\\\\\\'iso_639_1\\\\\\': \\\\\\'en\\\\\\', \\\\\\'name\\\\\\': \\\\\\'English\\\\\\'}]\", \"release_date\": \"2012-06-17\", \"production_countries\": \"[{\\\\\\'iso_3166_1\\\\\\': \\\\\\'US\\\\\\', \\\\\\'name\\\\\\': \\\\\\'United States of America\\\\\\'}]\", \"overview\": \"An independent documentary directed by Bobbito Garcia and Kevin Couliau. The film explores the definition, history, culture, social impact and global influence of New York\\\\\\'s outdoor summer basketball scene, the worldwide \\\\\\'Mecca\\\\\\' of the sport.\", \"revenue\": \"0\", \"production_companies\": \"[{\\\\\\'name\\\\\\': \\\\\\'Goldcrest Films International\\\\\\', \\\\\\'id\\\\\\': 500}]\", \"title\": \"Doin\\\\\\' It in the Park: Pick-Up Basketball, NYC\", \"genres\": \"[{\\\\\\'id\\\\\\': 99, \\\\\\'name\\\\\\': \\\\\\'Documentary\\\\\\'}, {\\\\\\'id\\\\\\': 36, \\\\\\'name\\\\\\': \\\\\\'History\\\\\\'}]\", \"vote_average\": 6.8}\\', metadata={\\'id\\': \\'28369653e53dff4d566ecac09e0501b6\\', \\'name\\': \\'projects/619758184732/locations/global/collections/default_collection/dataStores/kaggle-movies_1717439038857/branches/0/documents/28369653e53dff4d566ecac09e0501b6\\'}), Document(page_content=\\'{\"id\": \"10474\", \"poster_path\": \"https://image.tmdb.org/t/p/original/8BkedYL5LdpkyHc7JtuohMr8a9N.jpg\", \"runtime\": \"102\", \"budget\": \"0\", \"tagline\": \"The true story of the death of innocence and the birth of an artist.\", \"original_language\": \"en\", \"status\": \"Released\", \"popularity\": 7.415144, \"original_title\": \"The Basketball Diaries\", \"vote_count\": \"472\", \"spoken_languages\": \"[{\\\\\\'iso_639_1\\\\\\': \\\\\\'en\\\\\\', \\\\\\'name\\\\\\': \\\\\\'English\\\\\\'}]\", \"imdb_id\": \"tt0112461\", \"release_date\": \"1995-04-21\", \"production_companies\": \"[{\\\\\\'name\\\\\\': \\\\\\'New Line Cinema\\\\\\', \\\\\\'id\\\\\\': 12}, {\\\\\\'name\\\\\\': \\\\\\'Island Pictures\\\\\\', \\\\\\'id\\\\\\': 3492}]\", \"title\": \"The Basketball Diaries\", \"revenue\": \"0\", \"overview\": \"Film adaptation of street tough Jim Carroll\\\\\\'s epistle about his kaleidoscopic free fall into the harrowing world of drug addiction.\", \"production_countries\": \"[{\\\\\\'iso_3166_1\\\\\\': \\\\\\'US\\\\\\', \\\\\\'name\\\\\\': \\\\\\'United States of America\\\\\\'}]\", \"genres\": \"[{\\\\\\'id\\\\\\': 18, \\\\\\'name\\\\\\': \\\\\\'Drama\\\\\\'}, {\\\\\\'id\\\\\\': 80, \\\\\\'name\\\\\\': \\\\\\'Crime\\\\\\'}]\", \"vote_average\": 7.2}\\', metadata={\\'id\\': \\'32af1edec75f01cd70ea3cf3dcd53484\\', \\'name\\': \\'projects/619758184732/locations/global/collections/default_collection/dataStores/kaggle-movies_1717439038857/branches/0/documents/32af1edec75f01cd70ea3cf3dcd53484\\'}), Document(page_content=\\'{\"runtime\": \"105\", \"tagline\": \"The incredible true story of LeBron James and the Akron Fab Five\", \"id\": \"33295\", \"poster_path\": \"https://image.tmdb.org/t/p/original/kUZgKUhUnXZDJYB2X7HRdo4YRX0.jpg\", \"budget\": \"0\", \"original_language\": \"en\", \"status\": \"Released\", \"popularity\": 1.199003, \"homepage\": \"http://www.morethanagamemovie.com/\", \"original_title\": \"More Than a Game\", \"vote_count\": \"17\", \"imdb_id\": \"tt1286821\", \"release_date\": \"2008-09-06\", \"spoken_languages\": \"[{\\\\\\'iso_639_1\\\\\\': \\\\\\'es\\\\\\', \\\\\\'name\\\\\\': \\\\\\'Espa\\\\\\\\u00f1ol\\\\\\'}, {\\\\\\'iso_639_1\\\\\\': \\\\\\'en\\\\\\', \\\\\\'name\\\\\\': \\\\\\'English\\\\\\'}]\", \"production_companies\": \"[{\\\\\\'name\\\\\\': \\\\\\'Harvey Mason Media\\\\\\', \\\\\\'id\\\\\\': 60824}]\", \"overview\": \"This documentary follows NBA superstar LeBron James and four of his talented teammates through the trials and tribulations of high school basketball in Ohio and James\\\\\\' journey to fame.\", \"revenue\": \"887029\", \"title\": \"More Than a Game\", \"production_countries\": \"[{\\\\\\'iso_3166_1\\\\\\': \\\\\\'US\\\\\\', \\\\\\'name\\\\\\': \\\\\\'United States of America\\\\\\'}]\", \"genres\": \"[{\\\\\\'id\\\\\\': 99, \\\\\\'name\\\\\\': \\\\\\'Documentary\\\\\\'}]\", \"vote_average\": 7.2}\\', metadata={\\'id\\': \\'10cf01d172d9469bae8a5a5b350e6765\\', \\'name\\': \\'projects/619758184732/locations/global/collections/default_collection/dataStores/kaggle-movies_1717439038857/branches/0/documents/10cf01d172d9469bae8a5a5b350e6765\\'}), Document(page_content=\\'{\"budget\": \"25000000\", \"poster_path\": \"https://image.tmdb.org/t/p/original/63YZteyFAn0xVTPDTLtfs1mciHj.jpg\", \"runtime\": \"136\", \"id\": \"9469\", \"tagline\": \"The father, the son and the holy game.\", \"original_language\": \"en\", \"status\": \"Released\", \"popularity\": 13.06943, \"original_title\": \"He Got Game\", \"release_date\": \"1998-05-01\", \"spoken_languages\": \"[{\\\\\\'iso_639_1\\\\\\': \\\\\\'en\\\\\\', \\\\\\'name\\\\\\': \\\\\\'English\\\\\\'}]\", \"vote_count\": \"140\", \"imdb_id\": \"tt0124718\", \"production_companies\": \"[{\\\\\\'name\\\\\\': \\\\\\'40 Acres & A Mule Filmworks\\\\\\', \\\\\\'id\\\\\\': 4319}, {\\\\\\'name\\\\\\': \\\\\\'Touchstone Pictures\\\\\\', \\\\\\'id\\\\\\': 9195}]\", \"title\": \"He Got Game\", \"revenue\": \"21567853\", \"production_countries\": \"[{\\\\\\'iso_3166_1\\\\\\': \\\\\\'US\\\\\\', \\\\\\'name\\\\\\': \\\\\\'United States of America\\\\\\'}]\", \"overview\": \"A basketball player\\\\\\'s father must try to convince him to go to a college so he can get a shorter sentence.\", \"vote_average\": 6.7, \"genres\": \"[{\\\\\\'id\\\\\\': 18, \\\\\\'name\\\\\\': \\\\\\'Drama\\\\\\'}]\"}\\', metadata={\\'id\\': \\'3bc85ddb329213a0ea2fcfe60c844978\\', \\'name\\': \\'projects/619758184732/locations/global/collections/default_collection/dataStores/kaggle-movies_1717439038857/branches/0/documents/3bc85ddb329213a0ea2fcfe60c844978\\'}), Document(page_content=\\'{\"budget\": \"0\", \"poster_path\": \"https://image.tmdb.org/t/p/original/t7QYFlwyfM7PeO7rA9wiuZWkoly.jpg\", \"id\": \"14274\", \"runtime\": \"97\", \"original_language\": \"en\", \"status\": \"Released\", \"popularity\": 0.003296, \"original_title\": \"The Heart of the Game\", \"release_date\": \"2005-01-01\", \"spoken_languages\": \"[]\", \"vote_count\": \"0\", \"imdb_id\": \"tt0478166\", \"production_companies\": \"[]\", \"title\": \"The Heart of the Game\", \"revenue\": \"0\", \"production_countries\": \"[]\", \"overview\": \"The Heart of the Game captures the passion and energy of a Seattle high school girls\\\\\\' basketball team as they strive to win the state championship, the eccentricity of their unorthodox coach, and the incredible true story of one player\\\\\\'s fight to play the game she loves.\", \"genres\": \"[{\\\\\\'id\\\\\\': 99, \\\\\\'name\\\\\\': \\\\\\'Documentary\\\\\\'}]\", \"vote_average\": 0.0}\\', metadata={\\'id\\': \\'811853ecbb8f07f7aa209cb6a8cd0410\\', \\'name\\': \\'projects/619758184732/locations/global/collections/default_collection/dataStores/kaggle-movies_1717439038857/branches/0/documents/811853ecbb8f07f7aa209cb6a8cd0410\\'}), Document(page_content=\\'{\"runtime\": \"90\", \"poster_path\": \"https://image.tmdb.org/t/p/original/86qDteN6zqQRcFEa60FfPjLWmf1.jpg\", \"budget\": \"0\", \"id\": \"30106\", \"original_language\": \"en\", \"status\": \"Released\", \"popularity\": 0.194419, \"original_title\": \"Gunnin\\\\\\' for That #1 Spot\", \"release_date\": \"2008-04-18\", \"imdb_id\": \"tt1204298\", \"spoken_languages\": \"[]\", \"vote_count\": \"5\", \"production_countries\": \"[{\\\\\\'iso_3166_1\\\\\\': \\\\\\'US\\\\\\', \\\\\\'name\\\\\\': \\\\\\'United States of America\\\\\\'}]\", \"overview\": \"The film follows 8 of the top high school basketball players in the US at the time of filming, in 2006. The plot centers around the first annual Boost Mobile Elite 24 Hoops Classic game at the legendary Rucker Park in Harlem.\", \"revenue\": \"0\", \"title\": \"Gunnin\\\\\\' for That #1 Spot\", \"production_companies\": \"[]\", \"genres\": \"[{\\\\\\'id\\\\\\': 99, \\\\\\'name\\\\\\': \\\\\\'Documentary\\\\\\'}]\", \"vote_average\": 5.6}\\', metadata={\\'id\\': \\'0158f9286b329e63446cecce58ed71cd\\', \\'name\\': \\'projects/619758184732/locations/global/collections/default_collection/dataStores/kaggle-movies_1717439038857/branches/0/documents/0158f9286b329e63446cecce58ed71cd\\'}), Document(page_content=\\'{\"id\": \"14013\", \"tagline\": \"Two guys invented a game... and turned the sports world upside down!\", \"runtime\": \"103\", \"budget\": \"0\", \"poster_path\": \"https://image.tmdb.org/t/p/original/pEg0tYYhSfsyjLIYpvD9lCWLhcH.jpg\", \"original_language\": \"en\", \"status\": \"Released\", \"popularity\": 10.107454, \"original_title\": \"BASEketball\", \"release_date\": \"1998-07-28\", \"spoken_languages\": \"[{\\\\\\'iso_639_1\\\\\\': \\\\\\'en\\\\\\', \\\\\\'name\\\\\\': \\\\\\'English\\\\\\'}]\", \"imdb_id\": \"tt0131857\", \"vote_count\": \"150\", \"production_companies\": \"[{\\\\\\'name\\\\\\': \\\\\\'Universal Pictures\\\\\\', \\\\\\'id\\\\\\': 33}, {\\\\\\'name\\\\\\': \\\\\\'Zucker Brothers Productions\\\\\\', \\\\\\'id\\\\\\': 2851}]\", \"title\": \"BASEketball\", \"revenue\": \"7027290\", \"production_countries\": \"[{\\\\\\'iso_3166_1\\\\\\': \\\\\\'US\\\\\\', \\\\\\'name\\\\\\': \\\\\\'United States of America\\\\\\'}]\", \"overview\": \"Two losers from Milwaukee, Coop &amp; Remer, invent a new game playing basketball, using baseball rules. When the game becomes a huge success, they, along with a billionaire\\\\\\'s help, form the Professional Baseketball League where everyone gets the same pay and no team can change cities. Theirs is the only team standing in the way of major rule changes that the owner of a rival team wants to institute.\", \"genres\": \"[{\\\\\\'id\\\\\\': 35, \\\\\\'name\\\\\\': \\\\\\'Comedy\\\\\\'}]\", \"vote_average\": 5.9}\\', metadata={\\'id\\': \\'e4782aa4136c85fe10ac69047ba7d830\\', \\'name\\': \\'projects/619758184732/locations/global/collections/default_collection/dataStores/kaggle-movies_1717439038857/branches/0/documents/e4782aa4136c85fe10ac69047ba7d830\\'}), Document(page_content=\\'{\"runtime\": \"89\", \"poster_path\": \"https://image.tmdb.org/t/p/original/ule6bWaHuJMJhcf3coJ8F4LzSSz.jpg\", \"id\": \"84318\", \"budget\": \"0\", \"original_language\": \"en\", \"status\": \"Released\", \"homepage\": \"http://theotherdreamteam.com/\", \"popularity\": 0.50755, \"original_title\": \"Kita svajoni\\\\\\\\u0173 komanda\", \"vote_count\": \"7\", \"spoken_languages\": \"[{\\\\\\'iso_639_1\\\\\\': \\\\\\'en\\\\\\', \\\\\\'name\\\\\\': \\\\\\'English\\\\\\'}]\", \"imdb_id\": \"tt1606829\", \"release_date\": \"2012-09-28\", \"production_companies\": \"[]\", \"title\": \"The Other Dream Team\", \"revenue\": \"0\", \"production_countries\": \"[]\", \"overview\": \"The incredible story of the 1992 Lithuanian basketball team, whose athletes struggled under Soviet rule, became symbols of Lithuania\\\\\\'s independence movement, and \\\\\\\\u2013 with help from the Grateful Dead \\\\\\\\u2013 triumphed at the Barcelona Olympics.\", \"vote_average\": 6.9, \"genres\": \"[{\\\\\\'id\\\\\\': 99, \\\\\\'name\\\\\\': \\\\\\'Documentary\\\\\\'}]\"}\\', metadata={\\'id\\': \\'819f65abd82caae2ab7787919c426eef\\', \\'name\\': \\'projects/619758184732/locations/global/collections/default_collection/dataStores/kaggle-movies_1717439038857/branches/0/documents/819f65abd82caae2ab7787919c426eef\\'}), Document(page_content=\\'{\"budget\": \"0\", \"tagline\": \"Remember His Face.\", \"runtime\": \"88\", \"poster_path\": \"https://image.tmdb.org/t/p/original/3nqgD0ZEmrCQ8REDhzbLjQb7GKH.jpg\", \"id\": \"174374\", \"original_language\": \"en\", \"status\": \"Released\", \"popularity\": 0.469718, \"original_title\": \"Lenny Cooke\", \"vote_count\": \"4\", \"imdb_id\": \"tt2606924\", \"release_date\": \"2013-12-06\", \"spoken_languages\": \"[{\\\\\\'iso_639_1\\\\\\': \\\\\\'en\\\\\\', \\\\\\'name\\\\\\': \\\\\\'English\\\\\\'}]\", \"production_companies\": \"[]\", \"title\": \"Lenny Cooke\", \"revenue\": \"0\", \"overview\": \"In 2001, Lenny Cooke was the most hyped high school basketball player in the country, ranked above future greats LeBron James, Amar\\\\\\\\u2019e Stoudemire and Carmelo Anthony. A decade later, Lenny has never played a minute in the NBA. In this quintessentially American documentary, filmmaking brothers Joshua and Benny Safdie track the unfulfilled destiny of a man for whom superstardom was only just out of reach.\", \"production_countries\": \"[{\\\\\\'iso_3166_1\\\\\\': \\\\\\'US\\\\\\', \\\\\\'name\\\\\\': \\\\\\'United States of America\\\\\\'}]\", \"genres\": \"[{\\\\\\'id\\\\\\': 99, \\\\\\'name\\\\\\': \\\\\\'Documentary\\\\\\'}]\", \"vote_average\": 7.0}\\', metadata={\\'id\\': \\'2e49663426ed90211debdd18e9ef1b9f\\', \\'name\\': \\'projects/619758184732/locations/global/collections/default_collection/dataStores/kaggle-movies_1717439038857/branches/0/documents/2e49663426ed90211debdd18e9ef1b9f\\'})]'"
      ]
     },
     "execution_count": 14,
     "metadata": {},
     "output_type": "execute_result"
    }
   ],
   "source": [
    "search_kaggle_movies(\"basketball\")"
   ]
  },
  {
   "cell_type": "code",
   "execution_count": 52,
   "metadata": {},
   "outputs": [],
   "source": [
    "# Define prompt template\n",
    "prompt = {\n",
    "    \"history\": lambda x: x[\"history\"],\n",
    "    \"input\": lambda x: x[\"input\"],\n",
    "    \"agent_scratchpad\": (\n",
    "        lambda x: format_to_openai_function_messages(x[\"intermediate_steps\"])\n",
    "    ),\n",
    "} | prompts.ChatPromptTemplate.from_messages(\n",
    "    [\n",
    "        (\"system\", \"You are a search and recommendation assistant for a movie database. You must explain, with a summary, why you recommend specific titles to a user. You must also use a user's previous behavior to influence recommendations.\"),\n",
    "        (\"placeholder\", \"{history}\"),\n",
    "        (\"user\", \"{input}\"),\n",
    "        (\"placeholder\", \"{agent_scratchpad}\"),\n",
    "        \n",
    "    ]\n",
    ")\n",
    "\n",
    "# Initialize session history\n",
    "store = {}\n",
    "\n",
    "\n",
    "def get_session_history(session_id: str):\n",
    "    if session_id not in store:\n",
    "        store[session_id] = ChatMessageHistory()\n",
    "    return store[session_id]"
   ]
  },
  {
   "cell_type": "code",
   "execution_count": 49,
   "metadata": {},
   "outputs": [],
   "source": [
    "agent = reasoning_engines.LangchainAgent(\n",
    "    prompt=prompt,\n",
    "    model=model,\n",
    "    chat_history=get_session_history,\n",
    "    model_kwargs={\"temperature\": 0.5},\n",
    "    tools=[search_kaggle_movies],\n",
    "    agent_executor_kwargs={\"return_intermediate_steps\": True},\n",
    ")"
   ]
  },
  {
   "cell_type": "code",
   "execution_count": 55,
   "metadata": {},
   "outputs": [
    {
     "name": "stderr",
     "output_type": "stream",
     "text": [
      "Parent run b39183bf-7a31-4752-95b7-7c1e758b70ef not found for run a5064c41-6329-43cc-b7f3-0bb506a13dca. Treating as a root run.\n"
     ]
    },
    {
     "data": {
      "text/plain": [
       "{'input': 'Okay. I like dinosaur movies.',\n",
       " 'history': [{'lc': 1,\n",
       "   'type': 'constructor',\n",
       "   'id': ['langchain', 'schema', 'messages', 'HumanMessage'],\n",
       "   'kwargs': {'content': 'I need a movie suggestion.', 'type': 'human'}},\n",
       "  {'lc': 1,\n",
       "   'type': 'constructor',\n",
       "   'id': ['langchain', 'schema', 'messages', 'AIMessage'],\n",
       "   'kwargs': {'content': 'What kind of movie are you in the mood for?  I need some more information to give you a good recommendation. For example, what genres do you like? Are you looking for something lighthearted or something more serious? \\n',\n",
       "    'type': 'ai',\n",
       "    'tool_calls': [],\n",
       "    'invalid_tool_calls': []}},\n",
       "  {'lc': 1,\n",
       "   'type': 'constructor',\n",
       "   'id': ['langchain', 'schema', 'messages', 'HumanMessage'],\n",
       "   'kwargs': {'content': \"Can't you use my past queries to do that?\",\n",
       "    'type': 'human'}},\n",
       "  {'lc': 1,\n",
       "   'type': 'constructor',\n",
       "   'id': ['langchain', 'schema', 'messages', 'AIMessage'],\n",
       "   'kwargs': {'content': 'I am sorry, I do not have access to your past queries.  To give you a better recommendation, could you tell me more about what kind of movie you are looking for?  For example, what genres do you like? Are you looking for something lighthearted or something more serious? \\n',\n",
       "    'type': 'ai',\n",
       "    'tool_calls': [],\n",
       "    'invalid_tool_calls': []}}],\n",
       " 'output': 'Based on your interest in dinosaur movies, I recommend \"The Good Dinosaur\".  It\\'s an animated adventure film about an Apatosaurus named Arlo who befriends a human boy.  It\\'s a heartwarming story with beautiful animation and a lot of fun dinosaur action. \\n',\n",
       " 'intermediate_steps': [[{'lc': 1,\n",
       "    'type': 'constructor',\n",
       "    'id': ['langchain', 'schema', 'agent', 'ToolAgentAction'],\n",
       "    'kwargs': {'tool': 'search_kaggle_movies',\n",
       "     'tool_input': {'query': 'dinosaur movies'},\n",
       "     'log': \"\\nInvoking: `search_kaggle_movies` with `{'query': 'dinosaur movies'}`\\n\\n\\n\",\n",
       "     'type': 'AgentActionMessageLog',\n",
       "     'message_log': [{'lc': 1,\n",
       "       'type': 'constructor',\n",
       "       'id': ['langchain', 'schema', 'messages', 'AIMessageChunk'],\n",
       "       'kwargs': {'content': '',\n",
       "        'additional_kwargs': {'function_call': {'name': 'search_kaggle_movies',\n",
       "          'arguments': '{\"query\": \"dinosaur movies\"}'}},\n",
       "        'response_metadata': {'is_blocked': False,\n",
       "         'safety_ratings': [{'category': 'HARM_CATEGORY_HATE_SPEECH',\n",
       "           'probability_label': 'NEGLIGIBLE',\n",
       "           'blocked': False},\n",
       "          {'category': 'HARM_CATEGORY_DANGEROUS_CONTENT',\n",
       "           'probability_label': 'NEGLIGIBLE',\n",
       "           'blocked': False},\n",
       "          {'category': 'HARM_CATEGORY_HARASSMENT',\n",
       "           'probability_label': 'NEGLIGIBLE',\n",
       "           'blocked': False},\n",
       "          {'category': 'HARM_CATEGORY_SEXUALLY_EXPLICIT',\n",
       "           'probability_label': 'NEGLIGIBLE',\n",
       "           'blocked': False}],\n",
       "         'citation_metadata': None,\n",
       "         'usage_metadata': {'prompt_token_count': 248,\n",
       "          'candidates_token_count': 9,\n",
       "          'total_token_count': 257}},\n",
       "        'type': 'AIMessageChunk',\n",
       "        'id': 'run-9301ac7c-812c-4705-9314-e7612a1cdc80',\n",
       "        'tool_calls': [{'name': 'search_kaggle_movies',\n",
       "          'args': {'query': 'dinosaur movies'},\n",
       "          'id': '4279bb38-3766-4e9c-a5b8-227897c1f5fe'}],\n",
       "        'tool_call_chunks': [{'name': 'search_kaggle_movies',\n",
       "          'args': '{\"query\": \"dinosaur movies\"}',\n",
       "          'id': '4279bb38-3766-4e9c-a5b8-227897c1f5fe',\n",
       "          'index': None}],\n",
       "        'invalid_tool_calls': []}}],\n",
       "     'tool_call_id': '4279bb38-3766-4e9c-a5b8-227897c1f5fe'}},\n",
       "   '[Document(page_content=\\'{\"budget\": \"175000000\", \"tagline\": \"Little Arms With Big Attitude\", \"poster_path\": \"https://image.tmdb.org/t/p/original/2ZckiMTfSkCep2JTtZbr73tnQbN.jpg\", \"runtime\": \"93\", \"id\": \"105864\", \"original_language\": \"en\", \"status\": \"Released\", \"popularity\": 12.319595, \"homepage\": \"http://movies.disney.com/the-good-dinosaur\", \"original_title\": \"The Good Dinosaur\", \"release_date\": \"2015-11-14\", \"spoken_languages\": \"[{\\\\\\'iso_639_1\\\\\\': \\\\\\'en\\\\\\', \\\\\\'name\\\\\\': \\\\\\'English\\\\\\'}]\", \"imdb_id\": \"tt1979388\", \"vote_count\": \"1782\", \"production_companies\": \"[{\\\\\\'name\\\\\\': \\\\\\'Walt Disney Pictures\\\\\\', \\\\\\'id\\\\\\': 2}, {\\\\\\'name\\\\\\': \\\\\\'Pixar Animation Studios\\\\\\', \\\\\\'id\\\\\\': 3}]\", \"overview\": \"An epic journey into the world of dinosaurs where an Apatosaurus named Arlo makes an unlikely human friend.\", \"revenue\": \"331926147\", \"production_countries\": \"[{\\\\\\'iso_3166_1\\\\\\': \\\\\\'US\\\\\\', \\\\\\'name\\\\\\': \\\\\\'United States of America\\\\\\'}]\", \"title\": \"The Good Dinosaur\", \"genres\": \"[{\\\\\\'id\\\\\\': 12, \\\\\\'name\\\\\\': \\\\\\'Adventure\\\\\\'}, {\\\\\\'id\\\\\\': 16, \\\\\\'name\\\\\\': \\\\\\'Animation\\\\\\'}, {\\\\\\'id\\\\\\': 10751, \\\\\\'name\\\\\\': \\\\\\'Family\\\\\\'}]\", \"vote_average\": 6.6}\\', metadata={\\'id\\': \\'eb19f08779fe92095d654b3cd5e9d08a\\', \\'name\\': \\'projects/619758184732/locations/global/collections/default_collection/dataStores/kaggle-movies_1717439038857/branches/0/documents/eb19f08779fe92095d654b3cd5e9d08a\\'}), Document(page_content=\\'{\"budget\": \"0\", \"tagline\": \"The discovery of a lifetime will become a fight for survival.\", \"id\": \"119698\", \"runtime\": \"83\", \"poster_path\": \"https://image.tmdb.org/t/p/original/wuiY4NFrLvLT4iHS9Y9PfIctkC8.jpg\", \"original_language\": \"en\", \"status\": \"Released\", \"homepage\": \"http://www.cryptozoological.co.uk\", \"popularity\": 11.736223, \"original_title\": \"The Dinosaur Project\", \"vote_count\": \"63\", \"spoken_languages\": \"[{\\\\\\'iso_639_1\\\\\\': \\\\\\'en\\\\\\', \\\\\\'name\\\\\\': \\\\\\'English\\\\\\'}, {\\\\\\'iso_639_1\\\\\\': \\\\\\'pl\\\\\\', \\\\\\'name\\\\\\': \\\\\\'Polski\\\\\\'}]\", \"release_date\": \"2012-08-09\", \"imdb_id\": \"tt1907779\", \"production_countries\": \"[{\\\\\\'iso_3166_1\\\\\\': \\\\\\'GB\\\\\\', \\\\\\'name\\\\\\': \\\\\\'United Kingdom\\\\\\'}]\", \"title\": \"The Dinosaur Project\", \"revenue\": \"0\", \"production_companies\": \"[{\\\\\\'name\\\\\\': \\\\\\'Moonlighting Films\\\\\\', \\\\\\'id\\\\\\': 9137}]\", \"overview\": \"Found footage of an expedition into the Congo jungle where a team of explorers stumbles upon a colony of Dinosaurs.\", \"vote_average\": 4.7, \"genres\": \"[{\\\\\\'id\\\\\\': 10770, \\\\\\'name\\\\\\': \\\\\\'TV Movie\\\\\\'}, {\\\\\\'id\\\\\\': 12, \\\\\\'name\\\\\\': \\\\\\'Adventure\\\\\\'}]\"}\\', metadata={\\'id\\': \\'1a978231852c3b8c73b33d093831fe70\\', \\'name\\': \\'projects/619758184732/locations/global/collections/default_collection/dataStores/kaggle-movies_1717439038857/branches/0/documents/1a978231852c3b8c73b33d093831fe70\\'}), Document(page_content=\\'{\"id\": \"77951\", \"poster_path\": \"https://image.tmdb.org/t/p/original/3QS2WnruXRj7T4gh9joOFhY6YqB.jpg\", \"tagline\": \"The Greatest Adventure in 70 Million Years\", \"runtime\": \"87\", \"budget\": \"80000000\", \"original_language\": \"en\", \"status\": \"Released\", \"popularity\": 8.883866, \"homepage\": \"http://www.walkingwithdinosaurs.com/movie/\", \"original_title\": \"Walking With Dinosaurs\", \"vote_count\": \"136\", \"imdb_id\": \"tt1762399\", \"spoken_languages\": \"[{\\\\\\'iso_639_1\\\\\\': \\\\\\'en\\\\\\', \\\\\\'name\\\\\\': \\\\\\'English\\\\\\'}]\", \"release_date\": \"2013-12-18\", \"production_countries\": \"[{\\\\\\'iso_3166_1\\\\\\': \\\\\\'AU\\\\\\', \\\\\\'name\\\\\\': \\\\\\'Australia\\\\\\'}, {\\\\\\'iso_3166_1\\\\\\': \\\\\\'IN\\\\\\', \\\\\\'name\\\\\\': \\\\\\'India\\\\\\'}, {\\\\\\'iso_3166_1\\\\\\': \\\\\\'GB\\\\\\', \\\\\\'name\\\\\\': \\\\\\'United Kingdom\\\\\\'}, {\\\\\\'iso_3166_1\\\\\\': \\\\\\'US\\\\\\', \\\\\\'name\\\\\\': \\\\\\'United States of America\\\\\\'}]\", \"title\": \"Walking With Dinosaurs\", \"revenue\": \"126546518\", \"production_companies\": \"[{\\\\\\'name\\\\\\': \\\\\\'BBC Worldwide\\\\\\', \\\\\\'id\\\\\\': 3164}, {\\\\\\'name\\\\\\': \\\\\\'Reliance BIG Entertainment\\\\\\', \\\\\\'id\\\\\\': 6733}, {\\\\\\'name\\\\\\': \\\\\\'Animal Logic\\\\\\', \\\\\\'id\\\\\\': 8089}, {\\\\\\'name\\\\\\': \\\\\\'BBC Earth\\\\\\', \\\\\\'id\\\\\\': 8090}, {\\\\\\'name\\\\\\': \\\\\\'Evergreen Films\\\\\\', \\\\\\'id\\\\\\': 8091}, {\\\\\\'name\\\\\\': \\\\\\'BBC Earth MD (WWD)\\\\\\', \\\\\\'id\\\\\\': 53498}, {\\\\\\'name\\\\\\': \\\\\\'Evergreen MD\\\\\\', \\\\\\'id\\\\\\': 53499}]\", \"overview\": \"Walking with Dinosaurs 3D is a film depicting life-like 3D dinosaur characters set in photo-real landscapes that transports audiences to the prehistoric world as it existed 70 million years ago. The film is based on the 1999 documentary television miniseries Walking with Dinosaurs, produced by the BBC. Walking with Dinosaurs 3D is being produced by Evergreen Studios, the company that produced Happy Feet, and it is was released on October 11, 2013.\", \"genres\": \"[{\\\\\\'id\\\\\\': 16, \\\\\\'name\\\\\\': \\\\\\'Animation\\\\\\'}, {\\\\\\'id\\\\\\': 10751, \\\\\\'name\\\\\\': \\\\\\'Family\\\\\\'}, {\\\\\\'id\\\\\\': 12, \\\\\\'name\\\\\\': \\\\\\'Adventure\\\\\\'}]\", \"vote_average\": 5.2}\\', metadata={\\'id\\': \\'e67c8669aaaed805fb2201b885978f40\\', \\'name\\': \\'projects/619758184732/locations/global/collections/default_collection/dataStores/kaggle-movies_1717439038857/branches/0/documents/e67c8669aaaed805fb2201b885978f40\\'}), Document(page_content=\\'{\"runtime\": \"12\", \"poster_path\": \"https://image.tmdb.org/t/p/original/6zQNAso7pVpVUPVLIv86bsbDlUW.jpg\", \"tagline\": \"The greatest animal act in the world!!!\", \"id\": \"100246\", \"budget\": \"0\", \"original_language\": \"en\", \"status\": \"Released\", \"popularity\": 1.914726, \"homepage\": \"http://de.wikipedia.org/wiki/Gertie_the_Dinosaur\", \"original_title\": \"Gertie the Dinosaur\", \"release_date\": \"1914-09-15\", \"imdb_id\": \"tt0004008\", \"vote_count\": \"27\", \"spoken_languages\": \"[{\\\\\\'iso_639_1\\\\\\': \\\\\\'en\\\\\\', \\\\\\'name\\\\\\': \\\\\\'English\\\\\\'}]\", \"production_companies\": \"[{\\\\\\'name\\\\\\': \\\\\\'Vitagraph Company of America\\\\\\', \\\\\\'id\\\\\\': 15634}]\", \"overview\": \"Although not the first feature-length animated film, as is sometimes thought, it was the first cartoon to feature a character with an appealing personality. The appearance of a true character distinguished it from earlier animated \\\\\\\\\"trick films\\\\\\\\\", such as those of Blackton and Cohl, and makes it the predecessor to later popular cartoons such as those by Walt Disney. The film was also the first to be created using keyframe animation.\", \"revenue\": \"0\", \"production_countries\": \"[{\\\\\\'iso_3166_1\\\\\\': \\\\\\'US\\\\\\', \\\\\\'name\\\\\\': \\\\\\'United States of America\\\\\\'}]\", \"title\": \"Gertie the Dinosaur\", \"vote_average\": 6.7, \"genres\": \"[{\\\\\\'id\\\\\\': 16, \\\\\\'name\\\\\\': \\\\\\'Animation\\\\\\'}, {\\\\\\'id\\\\\\': 35, \\\\\\'name\\\\\\': \\\\\\'Comedy\\\\\\'}]\"}\\', metadata={\\'id\\': \\'5063058b323dd05885f27812f0e5eb2c\\', \\'name\\': \\'projects/619758184732/locations/global/collections/default_collection/dataStores/kaggle-movies_1717439038857/branches/0/documents/5063058b323dd05885f27812f0e5eb2c\\'}), Document(page_content=\\'{\"runtime\": \"89\", \"tagline\": \"Let the Best Species Win\", \"poster_path\": \"https://image.tmdb.org/t/p/original/s0bFAVkEgRxM3hxUPqnc916W1FF.jpg\", \"budget\": \"0\", \"id\": \"337208\", \"original_language\": \"en\", \"status\": \"Released\", \"popularity\": 1.121188, \"original_title\": \"Cowboys vs. Dinosaurs\", \"release_date\": \"2015-05-19\", \"imdb_id\": \"tt3252786\", \"vote_count\": \"14\", \"spoken_languages\": \"[{\\\\\\'iso_639_1\\\\\\': \\\\\\'en\\\\\\', \\\\\\'name\\\\\\': \\\\\\'English\\\\\\'}]\", \"production_companies\": \"[{\\\\\\'name\\\\\\': \\\\\\'Oracle Film Group\\\\\\', \\\\\\'id\\\\\\': 52305}]\", \"title\": \"Cowboys vs. Dinosaurs\", \"revenue\": \"0\", \"production_countries\": \"[{\\\\\\'iso_3166_1\\\\\\': \\\\\\'US\\\\\\', \\\\\\'name\\\\\\': \\\\\\'United States of America\\\\\\'}]\", \"overview\": \"After an accidental explosion at a local mine, dinosaurs emerge from the rubble to terrorize a small western town. Now, a group of gunslingers must defend their home if anyone is going to survive in a battle of cowboys versus dinosaurs.\", \"genres\": \"[{\\\\\\'id\\\\\\': 878, \\\\\\'name\\\\\\': \\\\\\'Science Fiction\\\\\\'}, {\\\\\\'id\\\\\\': 28, \\\\\\'name\\\\\\': \\\\\\'Action\\\\\\'}]\", \"vote_average\": 4.3}\\', metadata={\\'id\\': \\'986fb37bc27bb83d2bec2a74901c5ee0\\', \\'name\\': \\'projects/619758184732/locations/global/collections/default_collection/dataStores/kaggle-movies_1717439038857/branches/0/documents/986fb37bc27bb83d2bec2a74901c5ee0\\'}), Document(page_content=\\'{\"runtime\": \"96\", \"tagline\": \"Enter an age of unknown terrors, pagan worship and virgin sacrifice...\", \"poster_path\": \"https://image.tmdb.org/t/p/original/eOGBInqeNKmpUrDl2qHjVcadvzq.jpg\", \"id\": \"35002\", \"budget\": \"0\", \"original_language\": \"en\", \"status\": \"Released\", \"popularity\": 2.600011, \"original_title\": \"When Dinosaurs Ruled the Earth\", \"release_date\": \"1970-10-25\", \"imdb_id\": \"tt0066561\", \"spoken_languages\": \"[{\\\\\\'iso_639_1\\\\\\': \\\\\\'en\\\\\\', \\\\\\'name\\\\\\': \\\\\\'English\\\\\\'}]\", \"vote_count\": \"18\", \"production_companies\": \"[{\\\\\\'name\\\\\\': \\\\\\'Hammer Film Productions\\\\\\', \\\\\\'id\\\\\\': 1314}]\", \"overview\": \"Hammer Film\\\\\\\\u2019s follow-up to the successful One Million Years B.C. is set in an ancient past when humans and dinosaurs co-exist.  Athletic cavewomen and hairy men wander around, grunting, sweating and occasionally sacrificing evil blonde babes to the sun in return for protection from stop-motion beasts. The fun-loving, energetic Sanna (Victoria Vetri), one of the sacrificial offerings, manages to escape during a ritual and joins another tribe where she says \\\\\\\\u2018necro\\\\\\\\u2019 a lot and falls in love with a surprisingly hairless guy.\", \"revenue\": \"0\", \"production_countries\": \"[{\\\\\\'iso_3166_1\\\\\\': \\\\\\'GB\\\\\\', \\\\\\'name\\\\\\': \\\\\\'United Kingdom\\\\\\'}]\", \"title\": \"When Dinosaurs Ruled the Earth\", \"vote_average\": 5.1, \"genres\": \"[{\\\\\\'id\\\\\\': 878, \\\\\\'name\\\\\\': \\\\\\'Science Fiction\\\\\\'}, {\\\\\\'id\\\\\\': 14, \\\\\\'name\\\\\\': \\\\\\'Fantasy\\\\\\'}, {\\\\\\'id\\\\\\': 12, \\\\\\'name\\\\\\': \\\\\\'Adventure\\\\\\'}]\"}\\', metadata={\\'id\\': \\'db90854a86fb6881d42ef15d823186af\\', \\'name\\': \\'projects/619758184732/locations/global/collections/default_collection/dataStores/kaggle-movies_1717439038857/branches/0/documents/db90854a86fb6881d42ef15d823186af\\'}), Document(page_content=\\'{\"runtime\": \"82\", \"tagline\": \"Where the prehistoric meets the prepubescent.\", \"poster_path\": \"https://image.tmdb.org/t/p/original/b70ydnaZz737D1ueyrpgNSZc9J2.jpg\", \"id\": \"31647\", \"budget\": \"40000\", \"original_language\": \"en\", \"status\": \"Released\", \"homepage\": \"http://www.troma.com/films/a-nymphoid-barbarian-in-dinosaur-hell/\", \"popularity\": 0.639242, \"original_title\": \"A Nymphoid Barbarian in Dinosaur Hell\", \"vote_count\": \"9\", \"imdb_id\": \"tt0102569\", \"spoken_languages\": \"[{\\\\\\'iso_639_1\\\\\\': \\\\\\'en\\\\\\', \\\\\\'name\\\\\\': \\\\\\'English\\\\\\'}]\", \"release_date\": \"1990-01-01\", \"production_countries\": \"[{\\\\\\'iso_3166_1\\\\\\': \\\\\\'US\\\\\\', \\\\\\'name\\\\\\': \\\\\\'United States of America\\\\\\'}]\", \"title\": \"A Nymphoid Barbarian in Dinosaur Hell\", \"revenue\": \"0\", \"overview\": \"In a post-Armageddon world, a young woman finds herself in a fight for survival against mutant cavemen, dinosaurs and other prehistoric animals.\", \"production_companies\": \"[{\\\\\\'name\\\\\\': \\\\\\'Troma Entertainment\\\\\\', \\\\\\'id\\\\\\': 3052}, {\\\\\\'name\\\\\\': \\\\\\'Chapter V Enterprises\\\\\\', \\\\\\'id\\\\\\': 14931}, {\\\\\\'name\\\\\\': \\\\\\'R.A.P. Productions\\\\\\', \\\\\\'id\\\\\\': 14932}]\", \"genres\": \"[{\\\\\\'id\\\\\\': 14, \\\\\\'name\\\\\\': \\\\\\'Fantasy\\\\\\'}, {\\\\\\'id\\\\\\': 878, \\\\\\'name\\\\\\': \\\\\\'Science Fiction\\\\\\'}, {\\\\\\'id\\\\\\': 27, \\\\\\'name\\\\\\': \\\\\\'Horror\\\\\\'}]\", \"vote_average\": 2.3}\\', metadata={\\'id\\': \\'55c881eca52f3f0148c15a97bc69721f\\', \\'name\\': \\'projects/619758184732/locations/global/collections/default_collection/dataStores/kaggle-movies_1717439038857/branches/0/documents/55c881eca52f3f0148c15a97bc69721f\\'}), Document(page_content=\\'{\"id\": \"86640\", \"tagline\": \"A journey into the cannibal inferno!\", \"poster_path\": \"https://image.tmdb.org/t/p/original/52lUVQd6lSxrC5LgeILbNuvFm3E.jpg\", \"runtime\": \"88\", \"budget\": \"0\", \"original_language\": \"it\", \"status\": \"Released\", \"popularity\": 2.123816, \"original_title\": \"Nudo e selvaggio\", \"vote_count\": \"13\", \"imdb_id\": \"tt0089562\", \"release_date\": \"1985-01-01\", \"spoken_languages\": \"[{\\\\\\'iso_639_1\\\\\\': \\\\\\'it\\\\\\', \\\\\\'name\\\\\\': \\\\\\'Italiano\\\\\\'}, {\\\\\\'iso_639_1\\\\\\': \\\\\\'pt\\\\\\', \\\\\\'name\\\\\\': \\\\\\'Portugu\\\\\\\\u00eas\\\\\\'}]\", \"production_countries\": \"[{\\\\\\'iso_3166_1\\\\\\': \\\\\\'IT\\\\\\', \\\\\\'name\\\\\\': \\\\\\'Italy\\\\\\'}, {\\\\\\'iso_3166_1\\\\\\': \\\\\\'BR\\\\\\', \\\\\\'name\\\\\\': \\\\\\'Brazil\\\\\\'}]\", \"overview\": \"A plane crashes in the Amazon jungle, and its passengers must battle their way through cannibals, slave traders, wild animals and murderous piranha fish to safety.\", \"revenue\": \"0\", \"title\": \"Massacre in Dinosaur Valley\", \"production_companies\": \"[{\\\\\\'name\\\\\\': \\\\\\'DMV Distribuzione\\\\\\', \\\\\\'id\\\\\\': 12740}, {\\\\\\'name\\\\\\': \\\\\\'Doral Film\\\\\\', \\\\\\'id\\\\\\': 13057}]\", \"vote_average\": 5.4, \"genres\": \"[{\\\\\\'id\\\\\\': 27, \\\\\\'name\\\\\\': \\\\\\'Horror\\\\\\'}, {\\\\\\'id\\\\\\': 28, \\\\\\'name\\\\\\': \\\\\\'Action\\\\\\'}, {\\\\\\'id\\\\\\': 12, \\\\\\'name\\\\\\': \\\\\\'Adventure\\\\\\'}]\"}\\', metadata={\\'id\\': \\'9a7871035c2298f1e39ec8e888675fa7\\', \\'name\\': \\'projects/619758184732/locations/global/collections/default_collection/dataStores/kaggle-movies_1717439038857/branches/0/documents/9a7871035c2298f1e39ec8e888675fa7\\'}), Document(page_content=\\'{\"budget\": \"0\", \"poster_path\": \"https://image.tmdb.org/t/p/original/rVI4XE1ggji75ksEUrvG5AB3cZH.jpg\", \"runtime\": \"63\", \"id\": \"28590\", \"tagline\": \"SEE...A prehistoric world of fantastic adventure come to life!\", \"original_language\": \"en\", \"status\": \"Released\", \"popularity\": 0.209484, \"original_title\": \"King Dinosaur\", \"release_date\": \"1955-07-17\", \"spoken_languages\": \"[{\\\\\\'iso_639_1\\\\\\': \\\\\\'en\\\\\\', \\\\\\'name\\\\\\': \\\\\\'English\\\\\\'}]\", \"imdb_id\": \"tt0048256\", \"vote_count\": \"5\", \"production_countries\": \"[{\\\\\\'iso_3166_1\\\\\\': \\\\\\'US\\\\\\', \\\\\\'name\\\\\\': \\\\\\'United States of America\\\\\\'}]\", \"title\": \"King Dinosaur\", \"revenue\": \"0\", \"production_companies\": \"[{\\\\\\'name\\\\\\': \\\\\\'Zimgor Productions\\\\\\', \\\\\\'id\\\\\\': 4838}]\", \"overview\": \"Four astronauts in 1960 travel to a planet called Nova that has just entered Earth\\\\\\'s solar system. The crew begins to study the planet to see if it\\\\\\'s able to withstand a possible Earth colony. After first discovering normal Earth animals such as a kinkajou and an alligator, they soon encounter and battle giant insects, an enormous snake, prehistoric mammals, dinosaurs, and the titular character, King Dinosaur, a Tyrannosaurus Rex. Eventually, the scientists blow up the planet with an atomic bomb, killing all of its inhabitants.\", \"genres\": \"[{\\\\\\'id\\\\\\': 27, \\\\\\'name\\\\\\': \\\\\\'Horror\\\\\\'}, {\\\\\\'id\\\\\\': 878, \\\\\\'name\\\\\\': \\\\\\'Science Fiction\\\\\\'}]\", \"vote_average\": 1.4}\\', metadata={\\'id\\': \\'260eec7f7b4beba066e03742b45508a3\\', \\'name\\': \\'projects/619758184732/locations/global/collections/default_collection/dataStores/kaggle-movies_1717439038857/branches/0/documents/260eec7f7b4beba066e03742b45508a3\\'}), Document(page_content=\\'{\"runtime\": \"88\", \"poster_path\": \"https://image.tmdb.org/t/p/original/eDOPWIEmQlLTNs4Tyi9DYBEYClp.jpg\", \"tagline\": \"Long Before There Were Turtles the World Was Ruled by Dinosaurs\", \"budget\": \"0\", \"id\": \"49082\", \"original_language\": \"en\", \"status\": \"Released\", \"popularity\": 0.638019, \"original_title\": \"Adventures in Dinosaur City\", \"release_date\": \"1991-08-28\", \"imdb_id\": \"tt0103621\", \"spoken_languages\": \"[]\", \"vote_count\": \"7\", \"production_companies\": \"[{\\\\\\'name\\\\\\': \\\\\\'Smart Egg Pictures\\\\\\', \\\\\\'id\\\\\\': 1531}]\", \"overview\": \"A scientist\\\\\\'s kids are sucked into a TV screen and wind up in the Stone Age with cavemen and dinosaurs.\", \"revenue\": \"0\", \"title\": \"Adventures in Dinosaur City\", \"production_countries\": \"[{\\\\\\'iso_3166_1\\\\\\': \\\\\\'US\\\\\\', \\\\\\'name\\\\\\': \\\\\\'United States of America\\\\\\'}]\", \"genres\": \"[{\\\\\\'id\\\\\\': 14, \\\\\\'name\\\\\\': \\\\\\'Fantasy\\\\\\'}, {\\\\\\'id\\\\\\': 12, \\\\\\'name\\\\\\': \\\\\\'Adventure\\\\\\'}, {\\\\\\'id\\\\\\': 10751, \\\\\\'name\\\\\\': \\\\\\'Family\\\\\\'}]\", \"vote_average\": 3.7}\\', metadata={\\'id\\': \\'e7510b0e018cc120f958a4287cb3a924\\', \\'name\\': \\'projects/619758184732/locations/global/collections/default_collection/dataStores/kaggle-movies_1717439038857/branches/0/documents/e7510b0e018cc120f958a4287cb3a924\\'})]']]}"
      ]
     },
     "execution_count": 55,
     "metadata": {},
     "output_type": "execute_result"
    }
   ],
   "source": [
    "response = agent.query(\n",
    "    input=\"Okay. I like dinosaur movies.\",\n",
    "    config={\"configurable\": {\"session_id\": \"demo3456\"}},\n",
    ")\n",
    "\n",
    "# display(Markdown(response[\"output\"]))\n",
    "response"
   ]
  },
  {
   "cell_type": "code",
   "execution_count": 56,
   "metadata": {},
   "outputs": [],
   "source": [
    "agent = reasoning_engines.LangchainAgent(\n",
    "    prompt=prompt,\n",
    "    model=model,\n",
    "    chat_history=get_session_history,\n",
    "    model_kwargs={\"temperature\": 0.5},\n",
    "    tools=[search_kaggle_movies],\n",
    "    agent_executor_kwargs={\"return_intermediate_steps\": True},\n",
    ")"
   ]
  },
  {
   "cell_type": "code",
   "execution_count": 60,
   "metadata": {},
   "outputs": [
    {
     "name": "stdout",
     "output_type": "stream",
     "text": [
      "Using bucket andrewcooley-reasoning-engine\n",
      "Writing to gs://andrewcooley-reasoning-engine/reasoning_engine/reasoning_engine.pkl\n",
      "Writing to gs://andrewcooley-reasoning-engine/reasoning_engine/requirements.txt\n",
      "Creating in-memory tarfile of extra_packages\n",
      "Writing to gs://andrewcooley-reasoning-engine/reasoning_engine/dependencies.tar.gz\n",
      "Creating ReasoningEngine\n",
      "Create ReasoningEngine backing LRO: projects/619758184732/locations/us-central1/reasoningEngines/6483248322948628480/operations/744402666590830592\n",
      "ReasoningEngine created. Resource name: projects/619758184732/locations/us-central1/reasoningEngines/6483248322948628480\n",
      "To use this ReasoningEngine in another session:\n",
      "reasoning_engine = vertexai.preview.reasoning_engines.ReasoningEngine('projects/619758184732/locations/us-central1/reasoningEngines/6483248322948628480')\n"
     ]
    }
   ],
   "source": [
    "remote_agent = reasoning_engines.ReasoningEngine.create(\n",
    "    agent,\n",
    "    requirements=[\n",
    "        \"google-cloud-aiplatform==1.51.0\",\n",
    "        \"langchain==0.1.20\",\n",
    "        \"langchain-google-vertexai==1.0.3\",\n",
    "        \"cloudpickle==3.0.0\",\n",
    "        \"pydantic==2.7.1\",\n",
    "        \"langchain_google_community\",\n",
    "        \"google-cloud-discoveryengine\",\n",
    "    ],\n",
    ")"
   ]
  },
  {
   "cell_type": "code",
   "execution_count": 58,
   "metadata": {},
   "outputs": [
    {
     "data": {
      "text/plain": [
       "'619758184732'"
      ]
     },
     "execution_count": 58,
     "metadata": {},
     "output_type": "execute_result"
    }
   ],
   "source": [
    "# Retrieve the project number associated with your project ID\n",
    "service = discovery.build(\"cloudresourcemanager\", \"v1\")\n",
    "request = service.projects().get(projectId=PROJECT_ID)\n",
    "response = request.execute()\n",
    "project_number = response[\"projectNumber\"]\n",
    "project_number"
   ]
  },
  {
   "cell_type": "code",
   "execution_count": 59,
   "metadata": {},
   "outputs": [
    {
     "name": "stdout",
     "output_type": "stream",
     "text": [
      "Updated IAM policy for project [andrewcooley-test-project].\n",
      "bindings:\n",
      "- members:\n",
      "  - serviceAccount:service-619758184732@gcp-sa-aiplatform-cc.iam.gserviceaccount.com\n",
      "  role: roles/aiplatform.customCodeServiceAgent\n",
      "- members:\n",
      "  - serviceAccount:service-619758184732@gcp-sa-vertex-ex-cc.iam.gserviceaccount.com\n",
      "  role: roles/aiplatform.extensionCustomCodeServiceAgent\n",
      "- members:\n",
      "  - serviceAccount:service-619758184732@gcp-sa-vertex-ex.iam.gserviceaccount.com\n",
      "  role: roles/aiplatform.extensionServiceAgent\n",
      "- members:\n",
      "  - serviceAccount:service-619758184732@gcp-sa-vertex-rag.iam.gserviceaccount.com\n",
      "  role: roles/aiplatform.ragServiceAgent\n",
      "- members:\n",
      "  - serviceAccount:service-619758184732@gcp-sa-vertex-eval.iam.gserviceaccount.com\n",
      "  role: roles/aiplatform.rapidevalServiceAgent\n",
      "- members:\n",
      "  - serviceAccount:service-619758184732@gcp-sa-aiplatform-re.iam.gserviceaccount.com\n",
      "  role: roles/aiplatform.reasoningEngineServiceAgent\n",
      "- members:\n",
      "  - serviceAccount:service-619758184732@gcp-sa-aiplatform.iam.gserviceaccount.com\n",
      "  role: roles/aiplatform.serviceAgent\n",
      "- members:\n",
      "  - serviceAccount:service-619758184732@gcp-sa-vertex-tune.iam.gserviceaccount.com\n",
      "  role: roles/aiplatform.tuningServiceAgent\n",
      "- members:\n",
      "  - serviceAccount:genai-sa@andrewcooley-test-project.iam.gserviceaccount.com\n",
      "  role: roles/aiplatform.user\n",
      "- members:\n",
      "  - serviceAccount:service-619758184732@gcp-sa-artifactregistry.iam.gserviceaccount.com\n",
      "  role: roles/artifactregistry.serviceAgent\n",
      "- members:\n",
      "  - serviceAccount:619758184732@cloudbuild.gserviceaccount.com\n",
      "  role: roles/cloudbuild.builds.builder\n",
      "- members:\n",
      "  - serviceAccount:service-619758184732@gcp-sa-cloudbuild.iam.gserviceaccount.com\n",
      "  role: roles/cloudbuild.serviceAgent\n",
      "- members:\n",
      "  - serviceAccount:service-619758184732@gcf-admin-robot.iam.gserviceaccount.com\n",
      "  role: roles/cloudfunctions.serviceAgent\n",
      "- members:\n",
      "  - serviceAccount:service-619758184732@compute-system.iam.gserviceaccount.com\n",
      "  role: roles/compute.serviceAgent\n",
      "- members:\n",
      "  - serviceAccount:service-619758184732@container-engine-robot.iam.gserviceaccount.com\n",
      "  role: roles/container.serviceAgent\n",
      "- members:\n",
      "  - serviceAccount:service-619758184732@container-analysis.iam.gserviceaccount.com\n",
      "  role: roles/containeranalysis.ServiceAgent\n",
      "- members:\n",
      "  - serviceAccount:service-619758184732@containerregistry.iam.gserviceaccount.com\n",
      "  role: roles/containerregistry.ServiceAgent\n",
      "- members:\n",
      "  - serviceAccount:service-619758184732@gcp-sa-containerscanning.iam.gserviceaccount.com\n",
      "  role: roles/containerscanning.ServiceAgent\n",
      "- members:\n",
      "  - serviceAccount:service-619758184732@dataflow-service-producer-prod.iam.gserviceaccount.com\n",
      "  role: roles/dataflow.serviceAgent\n",
      "- members:\n",
      "  - serviceAccount:service-619758184732@gcp-sa-dataform.iam.gserviceaccount.com\n",
      "  role: roles/dataform.serviceAgent\n",
      "- members:\n",
      "  - serviceAccount:service-619758184732@gcp-sa-dialogflow.iam.gserviceaccount.com\n",
      "  role: roles/dialogflow.serviceAgent\n",
      "- members:\n",
      "  - serviceAccount:service-619758184732@gcp-sa-aiplatform-re.iam.gserviceaccount.com\n",
      "  role: roles/discoveryengine.editor\n",
      "- members:\n",
      "  - serviceAccount:service-619758184732@gcp-sa-discoveryengine.iam.gserviceaccount.com\n",
      "  role: roles/discoveryengine.serviceAgent\n",
      "- members:\n",
      "  - serviceAccount:service-619758184732@gcp-sa-prod-dai-core.iam.gserviceaccount.com\n",
      "  role: roles/documentaicore.serviceAgent\n",
      "- members:\n",
      "  - serviceAccount:619758184732@cloudservices.gserviceaccount.com\n",
      "  - serviceAccount:genai-sa@andrewcooley-test-project.iam.gserviceaccount.com\n",
      "  role: roles/editor\n",
      "- members:\n",
      "  - serviceAccount:service-619758184732@gcp-sa-notebooks.iam.gserviceaccount.com\n",
      "  role: roles/notebooks.serviceAgent\n",
      "- members:\n",
      "  - serviceAccount:service-619758184732@gcp-sa-osconfig.iam.gserviceaccount.com\n",
      "  role: roles/osconfig.serviceAgent\n",
      "- members:\n",
      "  - user:andrewcooley@google.com\n",
      "  role: roles/owner\n",
      "- members:\n",
      "  - serviceAccount:service-619758184732@gcp-sa-pubsub.iam.gserviceaccount.com\n",
      "  role: roles/pubsub.serviceAgent\n",
      "- members:\n",
      "  - serviceAccount:service-619758184732@cloud-redis.iam.gserviceaccount.com\n",
      "  role: roles/redis.serviceAgent\n",
      "- members:\n",
      "  - serviceAccount:service-619758184732@serverless-robot-prod.iam.gserviceaccount.com\n",
      "  role: roles/run.serviceAgent\n",
      "etag: BwYaFRu8CJ4=\n",
      "version: 1\n"
     ]
    }
   ],
   "source": [
    "# Add a new role binding to the IAM policy\n",
    "!gcloud projects add-iam-policy-binding {PROJECT_ID} \\\n",
    "    --member=serviceAccount:service-{project_number}@gcp-sa-aiplatform-re.iam.gserviceaccount.com \\\n",
    "    --role=roles/discoveryengine.editor"
   ]
  },
  {
   "cell_type": "code",
   "execution_count": 78,
   "metadata": {},
   "outputs": [
    {
     "data": {
      "text/markdown": [
       "Based on your interest in time travel movies, I recommend checking out \"Back to the Future Part II\" (1989). It's a fun and exciting sequel to the original \"Back to the Future\" that sees Marty McFly and Doc Brown travel to 2015.  It's a classic time travel movie with a lot of humor and heart.  Would you like to know more? \n"
      ],
      "text/plain": [
       "<IPython.core.display.Markdown object>"
      ]
     },
     "metadata": {},
     "output_type": "display_data"
    }
   ],
   "source": [
    "response = remote_agent.query(\n",
    "    input=\"Cool! Can you recommend any movies from the 1990s about time travel?\",\n",
    "    config={\"configurable\": {\"session_id\": \"demo_1\"}},\n",
    ")\n",
    "\n",
    "display(Markdown(response[\"output\"]))"
   ]
  },
  {
   "cell_type": "code",
   "execution_count": 87,
   "metadata": {},
   "outputs": [
    {
     "name": "stdout",
     "output_type": "stream",
     "text": [
      "How about documentaries about nature?\n",
      "I found a few documentaries about nature that might interest you, like \"Planet Earth\" and \"Planet Earth II\". These are both highly acclaimed series that showcase the beauty and diversity of our planet. \"Animals Are Beautiful People\" is a classic nature documentary about wildlife in Southern Africa, and \"Wild China\" is a six-part series on the natural history of China.  If you're looking for something more recent, \"Born in China\" is a heartwarming documentary that follows a panda bear and her cub, a golden monkey, and a snow leopard.  Let me know if you'd like to explore any of these further! \n",
      "\n",
      "Are any of those narrarated by David Attenborough?\n",
      "You're right!  \"Planet Earth\" and \"Planet Earth II\" are both narrated by David Attenborough.  He's a legend in the world of nature documentaries.  Would you like to learn more about those? \n",
      "\n"
     ]
    }
   ],
   "source": [
    "def extract_content(data):\n",
    "    \"\"\"Extracts content strings from the history in the provided data structure.\n",
    "\n",
    "    Args:\n",
    "        data: A dictionary containing conversation history.\n",
    "\n",
    "    Returns:\n",
    "        A list of strings containing the message content from the history.\n",
    "    \"\"\"\n",
    "    contents = []\n",
    "    for message in data['history']:\n",
    "        if 'kwargs' in message and 'content' in message['kwargs']:\n",
    "            contents.append(message['kwargs']['content'])\n",
    "    return contents\n",
    "\n",
    "# Example usage with your data (assuming it's stored in a variable named 'data')\n",
    "contents = extract_content(response)\n",
    "for content in contents:\n",
    "    print(content)"
   ]
  }
 ],
 "metadata": {
  "kernelspec": {
   "display_name": ".venv",
   "language": "python",
   "name": "python3"
  },
  "language_info": {
   "codemirror_mode": {
    "name": "ipython",
    "version": 3
   },
   "file_extension": ".py",
   "mimetype": "text/x-python",
   "name": "python",
   "nbconvert_exporter": "python",
   "pygments_lexer": "ipython3",
   "version": "3.11.6"
  }
 },
 "nbformat": 4,
 "nbformat_minor": 2
}
