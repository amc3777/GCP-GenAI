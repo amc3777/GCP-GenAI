{
 "cells": [
  {
   "cell_type": "code",
   "execution_count": 1,
   "metadata": {},
   "outputs": [
    {
     "name": "stdout",
     "output_type": "stream",
     "text": [
      "Requirement already satisfied: google-cloud-aiplatform==1.49.0 in /Users/andrewcooley/Documents/GitHub/GCP-GenAI/.venv/lib/python3.11/site-packages (1.49.0)\n",
      "Requirement already satisfied: langchain==0.1.16 in /Users/andrewcooley/Documents/GitHub/GCP-GenAI/.venv/lib/python3.11/site-packages (0.1.16)\n",
      "Requirement already satisfied: langchain-google-vertexai==1.0.2 in /Users/andrewcooley/Documents/GitHub/GCP-GenAI/.venv/lib/python3.11/site-packages (1.0.2)\n",
      "Requirement already satisfied: pydantic in /Users/andrewcooley/Documents/GitHub/GCP-GenAI/.venv/lib/python3.11/site-packages (2.7.1)\n",
      "Requirement already satisfied: google-api-core!=2.0.*,!=2.1.*,!=2.2.*,!=2.3.*,!=2.4.*,!=2.5.*,!=2.6.*,!=2.7.*,<3.0.0dev,>=1.34.1 in /Users/andrewcooley/Documents/GitHub/GCP-GenAI/.venv/lib/python3.11/site-packages (from google-api-core[grpc]!=2.0.*,!=2.1.*,!=2.2.*,!=2.3.*,!=2.4.*,!=2.5.*,!=2.6.*,!=2.7.*,<3.0.0dev,>=1.34.1->google-cloud-aiplatform==1.49.0) (2.19.0)\n",
      "Requirement already satisfied: google-auth<3.0.0dev,>=2.14.1 in /Users/andrewcooley/Documents/GitHub/GCP-GenAI/.venv/lib/python3.11/site-packages (from google-cloud-aiplatform==1.49.0) (2.29.0)\n",
      "Requirement already satisfied: proto-plus<2.0.0dev,>=1.22.0 in /Users/andrewcooley/Documents/GitHub/GCP-GenAI/.venv/lib/python3.11/site-packages (from google-cloud-aiplatform==1.49.0) (1.23.0)\n",
      "Requirement already satisfied: protobuf!=3.20.0,!=3.20.1,!=4.21.0,!=4.21.1,!=4.21.2,!=4.21.3,!=4.21.4,!=4.21.5,<5.0.0dev,>=3.19.5 in /Users/andrewcooley/Documents/GitHub/GCP-GenAI/.venv/lib/python3.11/site-packages (from google-cloud-aiplatform==1.49.0) (4.25.3)\n",
      "Requirement already satisfied: packaging>=14.3 in /Users/andrewcooley/Documents/GitHub/GCP-GenAI/.venv/lib/python3.11/site-packages (from google-cloud-aiplatform==1.49.0) (23.2)\n",
      "Requirement already satisfied: google-cloud-storage<3.0.0dev,>=1.32.0 in /Users/andrewcooley/Documents/GitHub/GCP-GenAI/.venv/lib/python3.11/site-packages (from google-cloud-aiplatform==1.49.0) (2.16.0)\n",
      "Requirement already satisfied: google-cloud-bigquery!=3.20.0,<4.0.0dev,>=1.15.0 in /Users/andrewcooley/Documents/GitHub/GCP-GenAI/.venv/lib/python3.11/site-packages (from google-cloud-aiplatform==1.49.0) (3.22.0)\n",
      "Requirement already satisfied: google-cloud-resource-manager<3.0.0dev,>=1.3.3 in /Users/andrewcooley/Documents/GitHub/GCP-GenAI/.venv/lib/python3.11/site-packages (from google-cloud-aiplatform==1.49.0) (1.12.3)\n",
      "Requirement already satisfied: shapely<3.0.0dev in /Users/andrewcooley/Documents/GitHub/GCP-GenAI/.venv/lib/python3.11/site-packages (from google-cloud-aiplatform==1.49.0) (2.0.4)\n",
      "Requirement already satisfied: docstring-parser<1 in /Users/andrewcooley/Documents/GitHub/GCP-GenAI/.venv/lib/python3.11/site-packages (from google-cloud-aiplatform==1.49.0) (0.16)\n",
      "Requirement already satisfied: PyYAML>=5.3 in /Users/andrewcooley/Documents/GitHub/GCP-GenAI/.venv/lib/python3.11/site-packages (from langchain==0.1.16) (6.0.1)\n",
      "Requirement already satisfied: SQLAlchemy<3,>=1.4 in /Users/andrewcooley/Documents/GitHub/GCP-GenAI/.venv/lib/python3.11/site-packages (from langchain==0.1.16) (2.0.29)\n",
      "Requirement already satisfied: aiohttp<4.0.0,>=3.8.3 in /Users/andrewcooley/Documents/GitHub/GCP-GenAI/.venv/lib/python3.11/site-packages (from langchain==0.1.16) (3.9.3)\n",
      "Requirement already satisfied: dataclasses-json<0.7,>=0.5.7 in /Users/andrewcooley/Documents/GitHub/GCP-GenAI/.venv/lib/python3.11/site-packages (from langchain==0.1.16) (0.6.4)\n",
      "Requirement already satisfied: jsonpatch<2.0,>=1.33 in /Users/andrewcooley/Documents/GitHub/GCP-GenAI/.venv/lib/python3.11/site-packages (from langchain==0.1.16) (1.33)\n",
      "Requirement already satisfied: langchain-community<0.1,>=0.0.32 in /Users/andrewcooley/Documents/GitHub/GCP-GenAI/.venv/lib/python3.11/site-packages (from langchain==0.1.16) (0.0.36)\n",
      "Requirement already satisfied: langchain-core<0.2.0,>=0.1.42 in /Users/andrewcooley/Documents/GitHub/GCP-GenAI/.venv/lib/python3.11/site-packages (from langchain==0.1.16) (0.1.51)\n",
      "Requirement already satisfied: langchain-text-splitters<0.1,>=0.0.1 in /Users/andrewcooley/Documents/GitHub/GCP-GenAI/.venv/lib/python3.11/site-packages (from langchain==0.1.16) (0.0.1)\n",
      "Requirement already satisfied: langsmith<0.2.0,>=0.1.17 in /Users/andrewcooley/Documents/GitHub/GCP-GenAI/.venv/lib/python3.11/site-packages (from langchain==0.1.16) (0.1.39)\n",
      "Requirement already satisfied: numpy<2,>=1 in /Users/andrewcooley/Documents/GitHub/GCP-GenAI/.venv/lib/python3.11/site-packages (from langchain==0.1.16) (1.26.4)\n",
      "Requirement already satisfied: requests<3,>=2 in /Users/andrewcooley/Documents/GitHub/GCP-GenAI/.venv/lib/python3.11/site-packages (from langchain==0.1.16) (2.31.0)\n",
      "Requirement already satisfied: tenacity<9.0.0,>=8.1.0 in /Users/andrewcooley/Documents/GitHub/GCP-GenAI/.venv/lib/python3.11/site-packages (from langchain==0.1.16) (8.2.3)\n",
      "Requirement already satisfied: types-protobuf<5.0.0.0,>=4.24.0.4 in /Users/andrewcooley/Documents/GitHub/GCP-GenAI/.venv/lib/python3.11/site-packages (from langchain-google-vertexai==1.0.2) (4.25.0.20240417)\n",
      "Requirement already satisfied: types-requests<3.0.0,>=2.31.0 in /Users/andrewcooley/Documents/GitHub/GCP-GenAI/.venv/lib/python3.11/site-packages (from langchain-google-vertexai==1.0.2) (2.31.0.20240406)\n",
      "Requirement already satisfied: annotated-types>=0.4.0 in /Users/andrewcooley/Documents/GitHub/GCP-GenAI/.venv/lib/python3.11/site-packages (from pydantic) (0.6.0)\n",
      "Requirement already satisfied: pydantic-core==2.18.2 in /Users/andrewcooley/Documents/GitHub/GCP-GenAI/.venv/lib/python3.11/site-packages (from pydantic) (2.18.2)\n",
      "Requirement already satisfied: typing-extensions>=4.6.1 in /Users/andrewcooley/Documents/GitHub/GCP-GenAI/.venv/lib/python3.11/site-packages (from pydantic) (4.11.0)\n",
      "Requirement already satisfied: aiosignal>=1.1.2 in /Users/andrewcooley/Documents/GitHub/GCP-GenAI/.venv/lib/python3.11/site-packages (from aiohttp<4.0.0,>=3.8.3->langchain==0.1.16) (1.3.1)\n",
      "Requirement already satisfied: attrs>=17.3.0 in /Users/andrewcooley/Documents/GitHub/GCP-GenAI/.venv/lib/python3.11/site-packages (from aiohttp<4.0.0,>=3.8.3->langchain==0.1.16) (23.2.0)\n",
      "Requirement already satisfied: frozenlist>=1.1.1 in /Users/andrewcooley/Documents/GitHub/GCP-GenAI/.venv/lib/python3.11/site-packages (from aiohttp<4.0.0,>=3.8.3->langchain==0.1.16) (1.4.1)\n",
      "Requirement already satisfied: multidict<7.0,>=4.5 in /Users/andrewcooley/Documents/GitHub/GCP-GenAI/.venv/lib/python3.11/site-packages (from aiohttp<4.0.0,>=3.8.3->langchain==0.1.16) (6.0.5)\n",
      "Requirement already satisfied: yarl<2.0,>=1.0 in /Users/andrewcooley/Documents/GitHub/GCP-GenAI/.venv/lib/python3.11/site-packages (from aiohttp<4.0.0,>=3.8.3->langchain==0.1.16) (1.9.4)\n",
      "Requirement already satisfied: marshmallow<4.0.0,>=3.18.0 in /Users/andrewcooley/Documents/GitHub/GCP-GenAI/.venv/lib/python3.11/site-packages (from dataclasses-json<0.7,>=0.5.7->langchain==0.1.16) (3.21.1)\n",
      "Requirement already satisfied: typing-inspect<1,>=0.4.0 in /Users/andrewcooley/Documents/GitHub/GCP-GenAI/.venv/lib/python3.11/site-packages (from dataclasses-json<0.7,>=0.5.7->langchain==0.1.16) (0.9.0)\n",
      "Requirement already satisfied: googleapis-common-protos<2.0.dev0,>=1.56.2 in /Users/andrewcooley/Documents/GitHub/GCP-GenAI/.venv/lib/python3.11/site-packages (from google-api-core!=2.0.*,!=2.1.*,!=2.2.*,!=2.3.*,!=2.4.*,!=2.5.*,!=2.6.*,!=2.7.*,<3.0.0dev,>=1.34.1->google-api-core[grpc]!=2.0.*,!=2.1.*,!=2.2.*,!=2.3.*,!=2.4.*,!=2.5.*,!=2.6.*,!=2.7.*,<3.0.0dev,>=1.34.1->google-cloud-aiplatform==1.49.0) (1.63.0)\n",
      "Requirement already satisfied: grpcio<2.0dev,>=1.33.2 in /Users/andrewcooley/Documents/GitHub/GCP-GenAI/.venv/lib/python3.11/site-packages (from google-api-core[grpc]!=2.0.*,!=2.1.*,!=2.2.*,!=2.3.*,!=2.4.*,!=2.5.*,!=2.6.*,!=2.7.*,<3.0.0dev,>=1.34.1->google-cloud-aiplatform==1.49.0) (1.63.0)\n",
      "Requirement already satisfied: grpcio-status<2.0.dev0,>=1.33.2 in /Users/andrewcooley/Documents/GitHub/GCP-GenAI/.venv/lib/python3.11/site-packages (from google-api-core[grpc]!=2.0.*,!=2.1.*,!=2.2.*,!=2.3.*,!=2.4.*,!=2.5.*,!=2.6.*,!=2.7.*,<3.0.0dev,>=1.34.1->google-cloud-aiplatform==1.49.0) (1.62.2)\n",
      "Requirement already satisfied: cachetools<6.0,>=2.0.0 in /Users/andrewcooley/Documents/GitHub/GCP-GenAI/.venv/lib/python3.11/site-packages (from google-auth<3.0.0dev,>=2.14.1->google-cloud-aiplatform==1.49.0) (5.3.3)\n",
      "Requirement already satisfied: pyasn1-modules>=0.2.1 in /Users/andrewcooley/Documents/GitHub/GCP-GenAI/.venv/lib/python3.11/site-packages (from google-auth<3.0.0dev,>=2.14.1->google-cloud-aiplatform==1.49.0) (0.4.0)\n",
      "Requirement already satisfied: rsa<5,>=3.1.4 in /Users/andrewcooley/Documents/GitHub/GCP-GenAI/.venv/lib/python3.11/site-packages (from google-auth<3.0.0dev,>=2.14.1->google-cloud-aiplatform==1.49.0) (4.9)\n",
      "Requirement already satisfied: google-cloud-core<3.0.0dev,>=1.6.0 in /Users/andrewcooley/Documents/GitHub/GCP-GenAI/.venv/lib/python3.11/site-packages (from google-cloud-bigquery!=3.20.0,<4.0.0dev,>=1.15.0->google-cloud-aiplatform==1.49.0) (2.4.1)\n",
      "Requirement already satisfied: google-resumable-media<3.0dev,>=0.6.0 in /Users/andrewcooley/Documents/GitHub/GCP-GenAI/.venv/lib/python3.11/site-packages (from google-cloud-bigquery!=3.20.0,<4.0.0dev,>=1.15.0->google-cloud-aiplatform==1.49.0) (2.7.0)\n",
      "Requirement already satisfied: python-dateutil<3.0dev,>=2.7.2 in /Users/andrewcooley/Documents/GitHub/GCP-GenAI/.venv/lib/python3.11/site-packages (from google-cloud-bigquery!=3.20.0,<4.0.0dev,>=1.15.0->google-cloud-aiplatform==1.49.0) (2.9.0.post0)\n",
      "Requirement already satisfied: grpc-google-iam-v1<1.0.0dev,>=0.12.4 in /Users/andrewcooley/Documents/GitHub/GCP-GenAI/.venv/lib/python3.11/site-packages (from google-cloud-resource-manager<3.0.0dev,>=1.3.3->google-cloud-aiplatform==1.49.0) (0.13.0)\n",
      "Requirement already satisfied: google-crc32c<2.0dev,>=1.0 in /Users/andrewcooley/Documents/GitHub/GCP-GenAI/.venv/lib/python3.11/site-packages (from google-cloud-storage<3.0.0dev,>=1.32.0->google-cloud-aiplatform==1.49.0) (1.5.0)\n",
      "Requirement already satisfied: jsonpointer>=1.9 in /Users/andrewcooley/Documents/GitHub/GCP-GenAI/.venv/lib/python3.11/site-packages (from jsonpatch<2.0,>=1.33->langchain==0.1.16) (2.4)\n",
      "Requirement already satisfied: orjson<4.0.0,>=3.9.14 in /Users/andrewcooley/Documents/GitHub/GCP-GenAI/.venv/lib/python3.11/site-packages (from langsmith<0.2.0,>=0.1.17->langchain==0.1.16) (3.10.0)\n",
      "Requirement already satisfied: charset-normalizer<4,>=2 in /Users/andrewcooley/Documents/GitHub/GCP-GenAI/.venv/lib/python3.11/site-packages (from requests<3,>=2->langchain==0.1.16) (3.3.2)\n",
      "Requirement already satisfied: idna<4,>=2.5 in /Users/andrewcooley/Documents/GitHub/GCP-GenAI/.venv/lib/python3.11/site-packages (from requests<3,>=2->langchain==0.1.16) (3.7)\n",
      "Requirement already satisfied: urllib3<3,>=1.21.1 in /Users/andrewcooley/Documents/GitHub/GCP-GenAI/.venv/lib/python3.11/site-packages (from requests<3,>=2->langchain==0.1.16) (2.2.1)\n",
      "Requirement already satisfied: certifi>=2017.4.17 in /Users/andrewcooley/Documents/GitHub/GCP-GenAI/.venv/lib/python3.11/site-packages (from requests<3,>=2->langchain==0.1.16) (2024.2.2)\n",
      "Requirement already satisfied: pyasn1<0.7.0,>=0.4.6 in /Users/andrewcooley/Documents/GitHub/GCP-GenAI/.venv/lib/python3.11/site-packages (from pyasn1-modules>=0.2.1->google-auth<3.0.0dev,>=2.14.1->google-cloud-aiplatform==1.49.0) (0.6.0)\n",
      "Requirement already satisfied: six>=1.5 in /Users/andrewcooley/Documents/GitHub/GCP-GenAI/.venv/lib/python3.11/site-packages (from python-dateutil<3.0dev,>=2.7.2->google-cloud-bigquery!=3.20.0,<4.0.0dev,>=1.15.0->google-cloud-aiplatform==1.49.0) (1.16.0)\n",
      "Requirement already satisfied: mypy-extensions>=0.3.0 in /Users/andrewcooley/Documents/GitHub/GCP-GenAI/.venv/lib/python3.11/site-packages (from typing-inspect<1,>=0.4.0->dataclasses-json<0.7,>=0.5.7->langchain==0.1.16) (1.0.0)\n"
     ]
    }
   ],
   "source": [
    "!pip install --upgrade google-cloud-aiplatform==1.49.0 langchain==0.1.16 langchain-google-vertexai==1.0.2 pydantic"
   ]
  },
  {
   "cell_type": "code",
   "execution_count": 2,
   "metadata": {},
   "outputs": [],
   "source": [
    "PROJECT_ID = \"andrewcooley-test-project\"\n",
    "LOCATION = \"us-central1\"\n",
    "STAGING_BUCKET = \"gs://andrewcooley-reasoning-engine\"\n",
    "\n",
    "import vertexai\n",
    "\n",
    "vertexai.init(project=PROJECT_ID, location=LOCATION, staging_bucket=STAGING_BUCKET)"
   ]
  },
  {
   "cell_type": "code",
   "execution_count": 3,
   "metadata": {},
   "outputs": [],
   "source": [
    "import requests\n",
    "from vertexai.preview import reasoning_engines"
   ]
  },
  {
   "cell_type": "code",
   "execution_count": 21,
   "metadata": {},
   "outputs": [],
   "source": [
    "model = \"gemini-1.0-pro-001\""
   ]
  },
  {
   "cell_type": "code",
   "execution_count": 22,
   "metadata": {},
   "outputs": [],
   "source": [
    "import re  # Import the regular expression module\n",
    "\n",
    "def count_sentences(text: str) -> int:\n",
    "    \"\"\"\n",
    "    Counts the number of sentences in a string. To be used to verify an output response length before returning the final result.\n",
    "\n",
    "    Args:\n",
    "        text (str): The text to be analyzed.\n",
    "\n",
    "    Returns:\n",
    "        int: The number of sentences in the text.\n",
    "    \"\"\"\n",
    "\n",
    "    # Regular expression pattern to match sentence endings \n",
    "    # without consuming the following space or quote\n",
    "    sentence_endings = re.compile(r\"(?<!\\w\\.\\w.)(?<![A-Z][a-z]\\.)(?<=\\.|\\?)\\s\")\n",
    "\n",
    "    # Find all sentence endings and count them\n",
    "    sentences = sentence_endings.split(text)\n",
    "    num_sentences = len(sentences)\n",
    "\n",
    "    return num_sentences\n"
   ]
  },
  {
   "cell_type": "code",
   "execution_count": 23,
   "metadata": {},
   "outputs": [
    {
     "data": {
      "text/plain": [
       "10"
      ]
     },
     "execution_count": 23,
     "metadata": {},
     "output_type": "execute_result"
    }
   ],
   "source": [
    "count_sentences('Water is essential for human life. It keeps our bodies hydrated and functioning properly. Drinking enough water helps regulate body temperature, transport nutrients, and flush out waste products. Staying hydrated can improve cognitive function and boost energy levels. Adequate water intake can also aid in weight management and improve skin health. Water helps lubricate joints, preventing pain and stiffness. Drinking enough water can also help prevent constipation and kidney stones. It is recommended to drink eight glasses of water per day. Staying hydrated is crucial for overall health and well-being. ')"
   ]
  },
  {
   "cell_type": "code",
   "execution_count": 24,
   "metadata": {},
   "outputs": [],
   "source": [
    "agent = reasoning_engines.LangchainAgent(\n",
    "    model=model,\n",
    "    tools=[count_sentences],\n",
    "    agent_executor_kwargs={\"return_intermediate_steps\": True},\n",
    ")"
   ]
  },
  {
   "cell_type": "code",
   "execution_count": 38,
   "metadata": {},
   "outputs": [
    {
     "name": "stdout",
     "output_type": "stream",
     "text": [
      "Water is essential for life and has many benefits including: \n",
      "\n",
      "1. **Water helps to regulate body temperature.** When you drink water, your body uses it to sweat, which helps to cool you down.\n",
      "2. **Water helps to lubricate and cushion joints.** Water helps to keep the cartilage in your joints healthy and prevent them from becoming stiff and painful.\n",
      "3. **Water helps to protect your tissues.** Water helps to protect your tissues from damage by free radicals. Free radicals are unstable molecules that can damage cells and lead to cancer and other diseases.\n",
      "4. **Water helps to flush out waste products.** Water helps to flush out waste products from your body through urination and sweating.\n",
      "5. **Water helps to improve your mood.** Drinking water can help to improve your mood and reduce stress.\n",
      "6. **Water helps to boost your energy levels.** Drinking water can help to boost your energy levels and make you feel more alert.\n",
      "7. **Water helps to improve your skin.** Drinking water can help to improve your skin's appearance and make it look more radiant.\n",
      "8. **Water helps to prevent headaches.** Drinking water can help to prevent headaches by keeping you hydrated.\n",
      "9. **Water helps to reduce the risk of certain diseases.** Drinking water can help to reduce the risk of certain diseases, such as heart disease, stroke, and kidney stones.\n",
      "10. **Water is essential for good health.** Drinking water is essential for good health and well-being. Make sure to drink plenty of water every day to stay healthy and hydrated.\n"
     ]
    },
    {
     "data": {
      "text/plain": [
       "22"
      ]
     },
     "execution_count": 38,
     "metadata": {},
     "output_type": "execute_result"
    }
   ],
   "source": [
    "response = agent.query(input=\"Write about the benefits of drinking water in exactly 10 sentences. Use your count_sentences function to validate your response length. Re-write your output if it is not long enough.\")\n",
    "print(f\"{response['output']}\")\n",
    "count_sentences(response['output'])"
   ]
  },
  {
   "cell_type": "code",
   "execution_count": null,
   "metadata": {},
   "outputs": [],
   "source": [
    "agent = reasoning_engines.LangchainAgent(\n",
    "    model=model,\n",
    "    tools=[get_exchange_rate],\n",
    ")"
   ]
  },
  {
   "cell_type": "code",
   "execution_count": null,
   "metadata": {},
   "outputs": [],
   "source": [
    "remote_agent = reasoning_engines.ReasoningEngine.create(\n",
    "    agent,\n",
    "    requirements=[\n",
    "        \"google-cloud-aiplatform[reasoningengine,langchain]\",\n",
    "        \"google-cloud-bigquery\",\n",
    "        \"requests\",\n",
    "    ],\n",
    ")"
   ]
  },
  {
   "cell_type": "code",
   "execution_count": null,
   "metadata": {},
   "outputs": [],
   "source": [
    "remote_agent.query(\n",
    "    input=\"What's the exchange rate from US dollars to Swedish currency today?\"\n",
    ")"
   ]
  },
  {
   "cell_type": "code",
   "execution_count": null,
   "metadata": {},
   "outputs": [],
   "source": [
    "reasoning_engines.ReasoningEngine.list()"
   ]
  }
 ],
 "metadata": {
  "kernelspec": {
   "display_name": ".venv",
   "language": "python",
   "name": "python3"
  },
  "language_info": {
   "codemirror_mode": {
    "name": "ipython",
    "version": 3
   },
   "file_extension": ".py",
   "mimetype": "text/x-python",
   "name": "python",
   "nbconvert_exporter": "python",
   "pygments_lexer": "ipython3",
   "version": "3.11.6"
  }
 },
 "nbformat": 4,
 "nbformat_minor": 2
}
