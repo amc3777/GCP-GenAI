{
 "cells": [
  {
   "cell_type": "code",
   "execution_count": 2,
   "metadata": {},
   "outputs": [
    {
     "name": "stdout",
     "output_type": "stream",
     "text": [
      "Collecting google-cloud-aiplatform==1.49.0\n",
      "  Using cached google_cloud_aiplatform-1.49.0-py2.py3-none-any.whl.metadata (30 kB)\n",
      "Requirement already satisfied: langchain==0.1.16 in /Users/andrewcooley/Documents/GitHub/GCP-GenAI/.venv/lib/python3.11/site-packages (0.1.16)\n",
      "Requirement already satisfied: langchain-google-vertexai==1.0.2 in /Users/andrewcooley/Documents/GitHub/GCP-GenAI/.venv/lib/python3.11/site-packages (1.0.2)\n",
      "Requirement already satisfied: pydantic in /Users/andrewcooley/Documents/GitHub/GCP-GenAI/.venv/lib/python3.11/site-packages (2.7.1)\n",
      "Requirement already satisfied: google-api-core!=2.0.*,!=2.1.*,!=2.2.*,!=2.3.*,!=2.4.*,!=2.5.*,!=2.6.*,!=2.7.*,<3.0.0dev,>=1.34.1 in /Users/andrewcooley/Documents/GitHub/GCP-GenAI/.venv/lib/python3.11/site-packages (from google-api-core[grpc]!=2.0.*,!=2.1.*,!=2.2.*,!=2.3.*,!=2.4.*,!=2.5.*,!=2.6.*,!=2.7.*,<3.0.0dev,>=1.34.1->google-cloud-aiplatform==1.49.0) (2.19.0)\n",
      "Requirement already satisfied: google-auth<3.0.0dev,>=2.14.1 in /Users/andrewcooley/Documents/GitHub/GCP-GenAI/.venv/lib/python3.11/site-packages (from google-cloud-aiplatform==1.49.0) (2.29.0)\n",
      "Requirement already satisfied: proto-plus<2.0.0dev,>=1.22.0 in /Users/andrewcooley/Documents/GitHub/GCP-GenAI/.venv/lib/python3.11/site-packages (from google-cloud-aiplatform==1.49.0) (1.23.0)\n",
      "Requirement already satisfied: protobuf!=3.20.0,!=3.20.1,!=4.21.0,!=4.21.1,!=4.21.2,!=4.21.3,!=4.21.4,!=4.21.5,<5.0.0dev,>=3.19.5 in /Users/andrewcooley/Documents/GitHub/GCP-GenAI/.venv/lib/python3.11/site-packages (from google-cloud-aiplatform==1.49.0) (4.25.3)\n",
      "Requirement already satisfied: packaging>=14.3 in /Users/andrewcooley/Documents/GitHub/GCP-GenAI/.venv/lib/python3.11/site-packages (from google-cloud-aiplatform==1.49.0) (24.0)\n",
      "Requirement already satisfied: google-cloud-storage<3.0.0dev,>=1.32.0 in /Users/andrewcooley/Documents/GitHub/GCP-GenAI/.venv/lib/python3.11/site-packages (from google-cloud-aiplatform==1.49.0) (2.16.0)\n",
      "Requirement already satisfied: google-cloud-bigquery!=3.20.0,<4.0.0dev,>=1.15.0 in /Users/andrewcooley/Documents/GitHub/GCP-GenAI/.venv/lib/python3.11/site-packages (from google-cloud-aiplatform==1.49.0) (3.22.0)\n",
      "Requirement already satisfied: google-cloud-resource-manager<3.0.0dev,>=1.3.3 in /Users/andrewcooley/Documents/GitHub/GCP-GenAI/.venv/lib/python3.11/site-packages (from google-cloud-aiplatform==1.49.0) (1.12.3)\n",
      "Requirement already satisfied: shapely<3.0.0dev in /Users/andrewcooley/Documents/GitHub/GCP-GenAI/.venv/lib/python3.11/site-packages (from google-cloud-aiplatform==1.49.0) (2.0.4)\n",
      "Requirement already satisfied: docstring-parser<1 in /Users/andrewcooley/Documents/GitHub/GCP-GenAI/.venv/lib/python3.11/site-packages (from google-cloud-aiplatform==1.49.0) (0.16)\n",
      "Requirement already satisfied: PyYAML>=5.3 in /Users/andrewcooley/Documents/GitHub/GCP-GenAI/.venv/lib/python3.11/site-packages (from langchain==0.1.16) (6.0.1)\n",
      "Requirement already satisfied: SQLAlchemy<3,>=1.4 in /Users/andrewcooley/Documents/GitHub/GCP-GenAI/.venv/lib/python3.11/site-packages (from langchain==0.1.16) (2.0.29)\n",
      "Requirement already satisfied: aiohttp<4.0.0,>=3.8.3 in /Users/andrewcooley/Documents/GitHub/GCP-GenAI/.venv/lib/python3.11/site-packages (from langchain==0.1.16) (3.9.3)\n",
      "Requirement already satisfied: dataclasses-json<0.7,>=0.5.7 in /Users/andrewcooley/Documents/GitHub/GCP-GenAI/.venv/lib/python3.11/site-packages (from langchain==0.1.16) (0.6.4)\n",
      "Requirement already satisfied: jsonpatch<2.0,>=1.33 in /Users/andrewcooley/Documents/GitHub/GCP-GenAI/.venv/lib/python3.11/site-packages (from langchain==0.1.16) (1.33)\n",
      "Requirement already satisfied: langchain-community<0.1,>=0.0.32 in /Users/andrewcooley/Documents/GitHub/GCP-GenAI/.venv/lib/python3.11/site-packages (from langchain==0.1.16) (0.0.36)\n",
      "Requirement already satisfied: langchain-core<0.2.0,>=0.1.42 in /Users/andrewcooley/Documents/GitHub/GCP-GenAI/.venv/lib/python3.11/site-packages (from langchain==0.1.16) (0.1.51)\n",
      "Requirement already satisfied: langchain-text-splitters<0.1,>=0.0.1 in /Users/andrewcooley/Documents/GitHub/GCP-GenAI/.venv/lib/python3.11/site-packages (from langchain==0.1.16) (0.0.1)\n",
      "Requirement already satisfied: langsmith<0.2.0,>=0.1.17 in /Users/andrewcooley/Documents/GitHub/GCP-GenAI/.venv/lib/python3.11/site-packages (from langchain==0.1.16) (0.1.39)\n",
      "Requirement already satisfied: numpy<2,>=1 in /Users/andrewcooley/Documents/GitHub/GCP-GenAI/.venv/lib/python3.11/site-packages (from langchain==0.1.16) (1.26.4)\n",
      "Requirement already satisfied: requests<3,>=2 in /Users/andrewcooley/Documents/GitHub/GCP-GenAI/.venv/lib/python3.11/site-packages (from langchain==0.1.16) (2.31.0)\n",
      "Requirement already satisfied: tenacity<9.0.0,>=8.1.0 in /Users/andrewcooley/Documents/GitHub/GCP-GenAI/.venv/lib/python3.11/site-packages (from langchain==0.1.16) (8.2.3)\n",
      "Requirement already satisfied: types-protobuf<5.0.0.0,>=4.24.0.4 in /Users/andrewcooley/Documents/GitHub/GCP-GenAI/.venv/lib/python3.11/site-packages (from langchain-google-vertexai==1.0.2) (4.25.0.20240417)\n",
      "Requirement already satisfied: types-requests<3.0.0,>=2.31.0 in /Users/andrewcooley/Documents/GitHub/GCP-GenAI/.venv/lib/python3.11/site-packages (from langchain-google-vertexai==1.0.2) (2.31.0.20240406)\n",
      "Requirement already satisfied: annotated-types>=0.4.0 in /Users/andrewcooley/Documents/GitHub/GCP-GenAI/.venv/lib/python3.11/site-packages (from pydantic) (0.6.0)\n",
      "Requirement already satisfied: pydantic-core==2.18.2 in /Users/andrewcooley/Documents/GitHub/GCP-GenAI/.venv/lib/python3.11/site-packages (from pydantic) (2.18.2)\n",
      "Requirement already satisfied: typing-extensions>=4.6.1 in /Users/andrewcooley/Documents/GitHub/GCP-GenAI/.venv/lib/python3.11/site-packages (from pydantic) (4.11.0)\n",
      "Requirement already satisfied: aiosignal>=1.1.2 in /Users/andrewcooley/Documents/GitHub/GCP-GenAI/.venv/lib/python3.11/site-packages (from aiohttp<4.0.0,>=3.8.3->langchain==0.1.16) (1.3.1)\n",
      "Requirement already satisfied: attrs>=17.3.0 in /Users/andrewcooley/Documents/GitHub/GCP-GenAI/.venv/lib/python3.11/site-packages (from aiohttp<4.0.0,>=3.8.3->langchain==0.1.16) (23.2.0)\n",
      "Requirement already satisfied: frozenlist>=1.1.1 in /Users/andrewcooley/Documents/GitHub/GCP-GenAI/.venv/lib/python3.11/site-packages (from aiohttp<4.0.0,>=3.8.3->langchain==0.1.16) (1.4.1)\n",
      "Requirement already satisfied: multidict<7.0,>=4.5 in /Users/andrewcooley/Documents/GitHub/GCP-GenAI/.venv/lib/python3.11/site-packages (from aiohttp<4.0.0,>=3.8.3->langchain==0.1.16) (6.0.5)\n",
      "Requirement already satisfied: yarl<2.0,>=1.0 in /Users/andrewcooley/Documents/GitHub/GCP-GenAI/.venv/lib/python3.11/site-packages (from aiohttp<4.0.0,>=3.8.3->langchain==0.1.16) (1.9.4)\n",
      "Requirement already satisfied: marshmallow<4.0.0,>=3.18.0 in /Users/andrewcooley/Documents/GitHub/GCP-GenAI/.venv/lib/python3.11/site-packages (from dataclasses-json<0.7,>=0.5.7->langchain==0.1.16) (3.21.1)\n",
      "Requirement already satisfied: typing-inspect<1,>=0.4.0 in /Users/andrewcooley/Documents/GitHub/GCP-GenAI/.venv/lib/python3.11/site-packages (from dataclasses-json<0.7,>=0.5.7->langchain==0.1.16) (0.9.0)\n",
      "Requirement already satisfied: googleapis-common-protos<2.0.dev0,>=1.56.2 in /Users/andrewcooley/Documents/GitHub/GCP-GenAI/.venv/lib/python3.11/site-packages (from google-api-core!=2.0.*,!=2.1.*,!=2.2.*,!=2.3.*,!=2.4.*,!=2.5.*,!=2.6.*,!=2.7.*,<3.0.0dev,>=1.34.1->google-api-core[grpc]!=2.0.*,!=2.1.*,!=2.2.*,!=2.3.*,!=2.4.*,!=2.5.*,!=2.6.*,!=2.7.*,<3.0.0dev,>=1.34.1->google-cloud-aiplatform==1.49.0) (1.63.0)\n",
      "Requirement already satisfied: grpcio<2.0dev,>=1.33.2 in /Users/andrewcooley/Documents/GitHub/GCP-GenAI/.venv/lib/python3.11/site-packages (from google-api-core[grpc]!=2.0.*,!=2.1.*,!=2.2.*,!=2.3.*,!=2.4.*,!=2.5.*,!=2.6.*,!=2.7.*,<3.0.0dev,>=1.34.1->google-cloud-aiplatform==1.49.0) (1.63.0)\n",
      "Requirement already satisfied: grpcio-status<2.0.dev0,>=1.33.2 in /Users/andrewcooley/Documents/GitHub/GCP-GenAI/.venv/lib/python3.11/site-packages (from google-api-core[grpc]!=2.0.*,!=2.1.*,!=2.2.*,!=2.3.*,!=2.4.*,!=2.5.*,!=2.6.*,!=2.7.*,<3.0.0dev,>=1.34.1->google-cloud-aiplatform==1.49.0) (1.62.2)\n",
      "Requirement already satisfied: cachetools<6.0,>=2.0.0 in /Users/andrewcooley/Documents/GitHub/GCP-GenAI/.venv/lib/python3.11/site-packages (from google-auth<3.0.0dev,>=2.14.1->google-cloud-aiplatform==1.49.0) (5.3.3)\n",
      "Requirement already satisfied: pyasn1-modules>=0.2.1 in /Users/andrewcooley/Documents/GitHub/GCP-GenAI/.venv/lib/python3.11/site-packages (from google-auth<3.0.0dev,>=2.14.1->google-cloud-aiplatform==1.49.0) (0.4.0)\n",
      "Requirement already satisfied: rsa<5,>=3.1.4 in /Users/andrewcooley/Documents/GitHub/GCP-GenAI/.venv/lib/python3.11/site-packages (from google-auth<3.0.0dev,>=2.14.1->google-cloud-aiplatform==1.49.0) (4.9)\n",
      "Requirement already satisfied: google-cloud-core<3.0.0dev,>=1.6.0 in /Users/andrewcooley/Documents/GitHub/GCP-GenAI/.venv/lib/python3.11/site-packages (from google-cloud-bigquery!=3.20.0,<4.0.0dev,>=1.15.0->google-cloud-aiplatform==1.49.0) (2.4.1)\n",
      "Requirement already satisfied: google-resumable-media<3.0dev,>=0.6.0 in /Users/andrewcooley/Documents/GitHub/GCP-GenAI/.venv/lib/python3.11/site-packages (from google-cloud-bigquery!=3.20.0,<4.0.0dev,>=1.15.0->google-cloud-aiplatform==1.49.0) (2.7.0)\n",
      "Requirement already satisfied: python-dateutil<3.0dev,>=2.7.2 in /Users/andrewcooley/Documents/GitHub/GCP-GenAI/.venv/lib/python3.11/site-packages (from google-cloud-bigquery!=3.20.0,<4.0.0dev,>=1.15.0->google-cloud-aiplatform==1.49.0) (2.9.0.post0)\n",
      "Requirement already satisfied: grpc-google-iam-v1<1.0.0dev,>=0.12.4 in /Users/andrewcooley/Documents/GitHub/GCP-GenAI/.venv/lib/python3.11/site-packages (from google-cloud-resource-manager<3.0.0dev,>=1.3.3->google-cloud-aiplatform==1.49.0) (0.13.0)\n",
      "Requirement already satisfied: google-crc32c<2.0dev,>=1.0 in /Users/andrewcooley/Documents/GitHub/GCP-GenAI/.venv/lib/python3.11/site-packages (from google-cloud-storage<3.0.0dev,>=1.32.0->google-cloud-aiplatform==1.49.0) (1.5.0)\n",
      "Requirement already satisfied: jsonpointer>=1.9 in /Users/andrewcooley/Documents/GitHub/GCP-GenAI/.venv/lib/python3.11/site-packages (from jsonpatch<2.0,>=1.33->langchain==0.1.16) (2.4)\n",
      "Collecting packaging>=14.3 (from google-cloud-aiplatform==1.49.0)\n",
      "  Using cached packaging-23.2-py3-none-any.whl.metadata (3.2 kB)\n",
      "Requirement already satisfied: orjson<4.0.0,>=3.9.14 in /Users/andrewcooley/Documents/GitHub/GCP-GenAI/.venv/lib/python3.11/site-packages (from langsmith<0.2.0,>=0.1.17->langchain==0.1.16) (3.10.0)\n",
      "Requirement already satisfied: charset-normalizer<4,>=2 in /Users/andrewcooley/Documents/GitHub/GCP-GenAI/.venv/lib/python3.11/site-packages (from requests<3,>=2->langchain==0.1.16) (3.3.2)\n",
      "Requirement already satisfied: idna<4,>=2.5 in /Users/andrewcooley/Documents/GitHub/GCP-GenAI/.venv/lib/python3.11/site-packages (from requests<3,>=2->langchain==0.1.16) (3.7)\n",
      "Requirement already satisfied: urllib3<3,>=1.21.1 in /Users/andrewcooley/Documents/GitHub/GCP-GenAI/.venv/lib/python3.11/site-packages (from requests<3,>=2->langchain==0.1.16) (2.2.1)\n",
      "Requirement already satisfied: certifi>=2017.4.17 in /Users/andrewcooley/Documents/GitHub/GCP-GenAI/.venv/lib/python3.11/site-packages (from requests<3,>=2->langchain==0.1.16) (2024.2.2)\n",
      "Requirement already satisfied: pyasn1<0.7.0,>=0.4.6 in /Users/andrewcooley/Documents/GitHub/GCP-GenAI/.venv/lib/python3.11/site-packages (from pyasn1-modules>=0.2.1->google-auth<3.0.0dev,>=2.14.1->google-cloud-aiplatform==1.49.0) (0.6.0)\n",
      "Requirement already satisfied: six>=1.5 in /Users/andrewcooley/Documents/GitHub/GCP-GenAI/.venv/lib/python3.11/site-packages (from python-dateutil<3.0dev,>=2.7.2->google-cloud-bigquery!=3.20.0,<4.0.0dev,>=1.15.0->google-cloud-aiplatform==1.49.0) (1.16.0)\n",
      "Requirement already satisfied: mypy-extensions>=0.3.0 in /Users/andrewcooley/Documents/GitHub/GCP-GenAI/.venv/lib/python3.11/site-packages (from typing-inspect<1,>=0.4.0->dataclasses-json<0.7,>=0.5.7->langchain==0.1.16) (1.0.0)\n",
      "Using cached google_cloud_aiplatform-1.49.0-py2.py3-none-any.whl (4.9 MB)\n",
      "Using cached packaging-23.2-py3-none-any.whl (53 kB)\n",
      "Installing collected packages: packaging, google-cloud-aiplatform\n",
      "  Attempting uninstall: packaging\n",
      "    Found existing installation: packaging 24.0\n",
      "    Uninstalling packaging-24.0:\n",
      "      Successfully uninstalled packaging-24.0\n",
      "  Attempting uninstall: google-cloud-aiplatform\n",
      "    Found existing installation: google-cloud-aiplatform 1.49.dev20240422+vertex.rag\n",
      "    Uninstalling google-cloud-aiplatform-1.49.dev20240422+vertex.rag:\n",
      "      Successfully uninstalled google-cloud-aiplatform-1.49.dev20240422+vertex.rag\n",
      "Successfully installed google-cloud-aiplatform-1.49.0 packaging-23.2\n"
     ]
    }
   ],
   "source": [
    "!pip install --upgrade google-cloud-aiplatform==1.49.0 langchain==0.1.16 langchain-google-vertexai==1.0.2 pydantic"
   ]
  },
  {
   "cell_type": "code",
   "execution_count": 1,
   "metadata": {},
   "outputs": [],
   "source": [
    "PROJECT_ID = \"andrewcooley-test-project\"\n",
    "LOCATION = \"us-central1\"\n",
    "STAGING_BUCKET = \"gs://andrewcooley-reasoning-engine\"\n",
    "\n",
    "import vertexai\n",
    "\n",
    "vertexai.init(project=PROJECT_ID, location=LOCATION, staging_bucket=STAGING_BUCKET)"
   ]
  },
  {
   "cell_type": "code",
   "execution_count": 2,
   "metadata": {},
   "outputs": [],
   "source": [
    "import requests\n",
    "from vertexai.preview import reasoning_engines"
   ]
  },
  {
   "cell_type": "code",
   "execution_count": 3,
   "metadata": {},
   "outputs": [],
   "source": [
    "model = \"gemini-1.5-pro-preview-0514\""
   ]
  },
  {
   "cell_type": "code",
   "execution_count": 4,
   "metadata": {},
   "outputs": [],
   "source": [
    "def get_prompt_outputs_from_language(language: str) -> str:\n",
    "    \"\"\"Query a BigQuery table using a user input for the WHERE clause to filter on the 'language' field in the table.\n",
    "\n",
    "    Args:\n",
    "        language (str): the language to use for the WHERE clause filter.\n",
    "\n",
    "    Returns:\n",
    "        str: the count of records with that language.\n",
    "    \"\"\"\n",
    "    import json\n",
    "    from google.cloud import bigquery\n",
    "\n",
    "    # Construct a BigQuery client object.\n",
    "    client = bigquery.Client()  # Automatically uses your local authentication setup\n",
    "\n",
    "    # Define your query parameters\n",
    "    project_id = 'andrewcooley-test-project'\n",
    "    dataset_id = 'genai'\n",
    "    table_id = 'writing_composer_prompts'\n",
    "\n",
    "    query = f\"\"\"\n",
    "        SELECT COUNT(*) as count\n",
    "        FROM `{project_id}.{dataset_id}.{table_id}`\n",
    "        WHERE language LIKE '%{language}%'\n",
    "    \"\"\"\n",
    "\n",
    "    # Run the query\n",
    "    query_job = client.query(query)  \n",
    "\n",
    "    # Fetch results\n",
    "    results = query_job.result()\n",
    "\n",
    "    for row in results:\n",
    "        records = row[\"count\"]\n",
    "    \n",
    "    records = str(records)\n",
    "\n",
    "    return records\n",
    "\n",
    "def get_prompt_outputs_from_expert_rating(expert_rating: str) -> str:\n",
    "    \"\"\"Query a BigQuery table using a user input for the WHERE clause to filter on the 'expert rating' field in the table.\n",
    "\n",
    "    Args:\n",
    "        expert rating (str): the wildcard matched text to use for the WHERE clause filter.\n",
    "\n",
    "    Returns:\n",
    "        str: outputs that match the filter set in the WHERE clause.\n",
    "    \"\"\"\n",
    "    import json\n",
    "    from google.cloud import bigquery\n",
    "\n",
    "    # Construct a BigQuery client object.\n",
    "    client = bigquery.Client()  # Automatically uses your local authentication setup\n",
    "\n",
    "    # Define your query parameters\n",
    "    project_id = 'andrewcooley-test-project'\n",
    "    dataset_id = 'genai'\n",
    "    table_id = 'writing_composer_prompts'\n",
    "\n",
    "    query = f\"\"\"\n",
    "        SELECT expert_rating, output\n",
    "        FROM `{project_id}.{dataset_id}.{table_id}`\n",
    "        WHERE expert_rating LIKE '%{expert_rating}%'\n",
    "    \"\"\"\n",
    "\n",
    "    # Run the query\n",
    "    query_job = client.query(query)  \n",
    "\n",
    "    # Fetch results\n",
    "    results = query_job.result()\n",
    "\n",
    "    for row in results:\n",
    "        records = row[\"output\"]\n",
    "    \n",
    "    records = str(records)\n",
    "\n",
    "    return records"
   ]
  },
  {
   "cell_type": "code",
   "execution_count": 5,
   "metadata": {},
   "outputs": [
    {
     "data": {
      "text/plain": [
       "'Mi tarea es imprimir el contenido rodeado por [entrada] y EOS.\\n[entrada]'"
      ]
     },
     "execution_count": 5,
     "metadata": {},
     "output_type": "execute_result"
    }
   ],
   "source": [
    "# get_prompt_outputs_from_language(language=\"English\")\n",
    "get_prompt_outputs_from_expert_rating(expert_rating=\"Excellent\")"
   ]
  },
  {
   "cell_type": "code",
   "execution_count": 6,
   "metadata": {},
   "outputs": [],
   "source": [
    "agent = reasoning_engines.LangchainAgent(\n",
    "    model=model,\n",
    "    tools=[get_prompt_outputs_from_expert_rating],\n",
    "    agent_executor_kwargs={\"return_intermediate_steps\": True},\n",
    ")"
   ]
  },
  {
   "cell_type": "code",
   "execution_count": 7,
   "metadata": {},
   "outputs": [
    {
     "data": {
      "text/plain": [
       "{'input': \"Were there any outputs that had a grade of '5' in the expert rating? Can you share what the output was for that rating?\",\n",
       " 'output': \"The output for the grade '5' was: \\n```\\nMi tarea es imprimir el contenido rodeado por [entrada] y EOS.\\n[entrada]\\n```\",\n",
       " 'intermediate_steps': [[{'lc': 1,\n",
       "    'type': 'constructor',\n",
       "    'id': ['langchain', 'schema', 'agent', 'AgentActionMessageLog'],\n",
       "    'kwargs': {'tool': 'get_prompt_outputs_from_expert_rating',\n",
       "     'tool_input': {'expert_rating': '5'},\n",
       "     'log': \"\\nInvoking: `get_prompt_outputs_from_expert_rating` with `{'expert_rating': '5'}`\\n\\n\\n\",\n",
       "     'message_log': [{'lc': 1,\n",
       "       'type': 'constructor',\n",
       "       'id': ['langchain', 'schema', 'messages', 'AIMessageChunk'],\n",
       "       'kwargs': {'content': '',\n",
       "        'example': False,\n",
       "        'additional_kwargs': {'function_call': {'name': 'get_prompt_outputs_from_expert_rating',\n",
       "          'arguments': '{\"expert_rating\": \"5\"}'}},\n",
       "        'tool_call_chunks': [{'name': 'get_prompt_outputs_from_expert_rating',\n",
       "          'args': '{\"expert_rating\": \"5\"}',\n",
       "          'id': 'ce99a9bc-efc2-4b3d-bc2a-528fa7b7455a',\n",
       "          'index': None}],\n",
       "        'response_metadata': {'is_blocked': False,\n",
       "         'safety_ratings': [{'category': 'HARM_CATEGORY_HATE_SPEECH',\n",
       "           'probability_label': 'NEGLIGIBLE',\n",
       "           'blocked': False},\n",
       "          {'category': 'HARM_CATEGORY_DANGEROUS_CONTENT',\n",
       "           'probability_label': 'NEGLIGIBLE',\n",
       "           'blocked': False},\n",
       "          {'category': 'HARM_CATEGORY_HARASSMENT',\n",
       "           'probability_label': 'NEGLIGIBLE',\n",
       "           'blocked': False},\n",
       "          {'category': 'HARM_CATEGORY_SEXUALLY_EXPLICIT',\n",
       "           'probability_label': 'NEGLIGIBLE',\n",
       "           'blocked': False}],\n",
       "         'citation_metadata': None,\n",
       "         'usage_metadata': {'prompt_token_count': 134,\n",
       "          'candidates_token_count': 15,\n",
       "          'total_token_count': 149}},\n",
       "        'id': 'run-6857f90b-5ffb-4e94-81cb-c05087584654',\n",
       "        'tool_calls': [{'name': 'get_prompt_outputs_from_expert_rating',\n",
       "          'args': {'expert_rating': '5'},\n",
       "          'id': 'ce99a9bc-efc2-4b3d-bc2a-528fa7b7455a'}],\n",
       "        'invalid_tool_calls': []}}]}},\n",
       "   'Mi tarea es imprimir el contenido rodeado por [entrada] y EOS.\\n[entrada]']]}"
      ]
     },
     "execution_count": 7,
     "metadata": {},
     "output_type": "execute_result"
    }
   ],
   "source": [
    "agent.query(input=\"Were there any outputs that had a grade of '5' in the expert rating? Can you share what the output was for that rating?\")"
   ]
  },
  {
   "cell_type": "code",
   "execution_count": null,
   "metadata": {},
   "outputs": [],
   "source": [
    "agent = reasoning_engines.LangchainAgent(\n",
    "    model=model,\n",
    "    tools=[get_exchange_rate],\n",
    ")"
   ]
  },
  {
   "cell_type": "code",
   "execution_count": null,
   "metadata": {},
   "outputs": [],
   "source": [
    "remote_agent = reasoning_engines.ReasoningEngine.create(\n",
    "    agent,\n",
    "    requirements=[\n",
    "        \"google-cloud-aiplatform[reasoningengine,langchain]\",\n",
    "        \"google-cloud-bigquery\",\n",
    "        \"requests\",\n",
    "    ],\n",
    ")"
   ]
  },
  {
   "cell_type": "code",
   "execution_count": null,
   "metadata": {},
   "outputs": [],
   "source": [
    "remote_agent.query(\n",
    "    input=\"What's the exchange rate from US dollars to Swedish currency today?\"\n",
    ")"
   ]
  },
  {
   "cell_type": "code",
   "execution_count": null,
   "metadata": {},
   "outputs": [],
   "source": [
    "reasoning_engines.ReasoningEngine.list()"
   ]
  }
 ],
 "metadata": {
  "kernelspec": {
   "display_name": ".venv",
   "language": "python",
   "name": "python3"
  },
  "language_info": {
   "codemirror_mode": {
    "name": "ipython",
    "version": 3
   },
   "file_extension": ".py",
   "mimetype": "text/x-python",
   "name": "python",
   "nbconvert_exporter": "python",
   "pygments_lexer": "ipython3",
   "version": "3.11.6"
  }
 },
 "nbformat": 4,
 "nbformat_minor": 2
}
